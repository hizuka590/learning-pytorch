{
 "cells": [
  {
   "cell_type": "code",
   "execution_count": 2,
   "metadata": {},
   "outputs": [],
   "source": [
    "%matplotlib inline"
   ]
  },
  {
   "cell_type": "markdown",
   "metadata": {},
   "source": [
    "\n",
    "NLP From Scratch: Translation with a Sequence to Sequence Network and Attention\n",
    "*******************************************************************************\n",
    "**Author**: `Sean Robertson <https://github.com/spro/practical-pytorch>`_\n",
    "\n",
    "This is the third and final tutorial on doing \"NLP From Scratch\", where we\n",
    "write our own classes and functions to preprocess the data to do our NLP\n",
    "modeling tasks. We hope after you complete this tutorial that you'll proceed to\n",
    "learn how `torchtext` can handle much of this preprocessing for you in the\n",
    "three tutorials immediately following this one.\n",
    "\n",
    "In this project we will be teaching a neural network to translate from\n",
    "French to English.\n",
    "\n",
    "::\n",
    "\n",
    "    [KEY: > input, = target, < output]\n",
    "\n",
    "    > il est en train de peindre un tableau .\n",
    "    = he is painting a picture .\n",
    "    < he is painting a picture .\n",
    "\n",
    "    > pourquoi ne pas essayer ce vin delicieux ?\n",
    "    = why not try that delicious wine ?\n",
    "    < why not try that delicious wine ?\n",
    "\n",
    "    > elle n est pas poete mais romanciere .\n",
    "    = she is not a poet but a novelist .\n",
    "    < she not not a poet but a novelist .\n",
    "\n",
    "    > vous etes trop maigre .\n",
    "    = you re too skinny .\n",
    "    < you re all alone .\n",
    "\n",
    "... to varying degrees of success.\n",
    "\n",
    "This is made possible by the simple but powerful idea of the `sequence\n",
    "to sequence network <https://arxiv.org/abs/1409.3215>`__, in which two\n",
    "recurrent neural networks work together to transform one sequence to\n",
    "another. An encoder network condenses an input sequence into a vector,\n",
    "and a decoder network unfolds that vector into a new sequence.\n",
    "\n",
    ".. figure:: /_static/img/seq-seq-images/seq2seq.png\n",
    "   :alt:\n",
    "\n",
    "To improve upon this model we'll use an `attention\n",
    "mechanism <https://arxiv.org/abs/1409.0473>`__, which lets the decoder\n",
    "learn to focus over a specific range of the input sequence.\n",
    "\n",
    "**Recommended Reading:**\n",
    "\n",
    "I assume you have at least installed PyTorch, know Python, and\n",
    "understand Tensors:\n",
    "\n",
    "-  https://pytorch.org/ For installation instructions\n",
    "-  :doc:`/beginner/deep_learning_60min_blitz` to get started with PyTorch in general\n",
    "-  :doc:`/beginner/pytorch_with_examples` for a wide and deep overview\n",
    "-  :doc:`/beginner/former_torchies_tutorial` if you are former Lua Torch user\n",
    "\n",
    "\n",
    "It would also be useful to know about Sequence to Sequence networks and\n",
    "how they work:\n",
    "\n",
    "-  `Learning Phrase Representations using RNN Encoder-Decoder for\n",
    "   Statistical Machine Translation <https://arxiv.org/abs/1406.1078>`__\n",
    "-  `Sequence to Sequence Learning with Neural\n",
    "   Networks <https://arxiv.org/abs/1409.3215>`__\n",
    "-  `Neural Machine Translation by Jointly Learning to Align and\n",
    "   Translate <https://arxiv.org/abs/1409.0473>`__\n",
    "-  `A Neural Conversational Model <https://arxiv.org/abs/1506.05869>`__\n",
    "\n",
    "You will also find the previous tutorials on\n",
    ":doc:`/intermediate/char_rnn_classification_tutorial`\n",
    "and :doc:`/intermediate/char_rnn_generation_tutorial`\n",
    "helpful as those concepts are very similar to the Encoder and Decoder\n",
    "models, respectively.\n",
    "\n",
    "**Requirements**\n",
    "\n"
   ]
  },
  {
   "cell_type": "code",
   "execution_count": 1,
   "metadata": {},
   "outputs": [],
   "source": [
    "from __future__ import unicode_literals, print_function, division\n",
    "from io import open\n",
    "import unicodedata\n",
    "import string\n",
    "import re\n",
    "import random\n",
    "\n",
    "import torch\n",
    "import torch.nn as nn\n",
    "from torch import optim\n",
    "import torch.nn.functional as F\n",
    "\n",
    "device = torch.device(\"cuda\" if torch.cuda.is_available() else \"cpu\")"
   ]
  },
  {
   "cell_type": "markdown",
   "metadata": {},
   "source": [
    "Loading data files\n",
    "==================\n",
    "\n",
    "The data for this project is a set of many thousands of English to\n",
    "French translation pairs.\n",
    "\n",
    "`This question on Open Data Stack\n",
    "Exchange <https://opendata.stackexchange.com/questions/3888/dataset-of-sentences-translated-into-many-languages>`__\n",
    "pointed me to the open translation site https://tatoeba.org/ which has\n",
    "downloads available at https://tatoeba.org/eng/downloads - and better\n",
    "yet, someone did the extra work of splitting language pairs into\n",
    "individual text files here: https://www.manythings.org/anki/\n",
    "\n",
    "The English to French pairs are too big to include in the repo, so\n",
    "download to ``data/eng-fra.txt`` before continuing. The file is a tab\n",
    "separated list of translation pairs:\n",
    "\n",
    "::\n",
    "\n",
    "    I am cold.    J'ai froid.\n",
    "\n",
    ".. Note::\n",
    "   Download the data from\n",
    "   `here <https://download.pytorch.org/tutorial/data.zip>`_\n",
    "   and extract it to the current directory.\n",
    "\n"
   ]
  },
  {
   "cell_type": "code",
   "execution_count": 9,
   "metadata": {},
   "outputs": [
    {
     "name": "stdout",
     "output_type": "stream",
     "text": [
      "Using downloaded and verified file: .\\data.zip\n"
     ]
    }
   ],
   "source": [
    "from torchvision.datasets.utils import download_url\n",
    "data_url  = \"https://download.pytorch.org/tutorial/data.zip\"\n",
    "download_url(data_url, '.')\n",
    "\n",
    "# Extract from archive\n",
    "import zipfile\n",
    "with zipfile.ZipFile(\"./data.zip\", 'r') as zip_ref:\n",
    "    zip_ref.extractall(\".\")\n",
    "\n"
   ]
  },
  {
   "cell_type": "code",
   "execution_count": 12,
   "metadata": {},
   "outputs": [
    {
     "name": "stdout",
     "output_type": "stream",
     "text": [
      "['eng-fra.txt', 'names']\n",
      "['Arabic.txt', 'Chinese.txt', 'Czech.txt', 'Dutch.txt', 'English.txt', 'French.txt', 'German.txt', 'Greek.txt', 'Irish.txt', 'Italian.txt', 'Japanese.txt', 'Korean.txt', 'Polish.txt', 'Portuguese.txt', 'Russian.txt', 'Scottish.txt', 'Spanish.txt', 'Vietnamese.txt']\n"
     ]
    }
   ],
   "source": [
    "import os\n",
    "data_dir = './data'\n",
    "print(os.listdir(data_dir))\n",
    "classes = os.listdir(data_dir + \"/names\")\n",
    "print(classes)"
   ]
  },
  {
   "cell_type": "markdown",
   "metadata": {},
   "source": [
    "Similar to the character encoding used in the character-level RNN\n",
    "tutorials, we will be representing each word in a language as a one-hot\n",
    "vector, or giant vector of zeros except for a single one (at the index\n",
    "of the word). Compared to the dozens of characters that might exist in a\n",
    "language, there are many many more words, so the encoding vector is much\n",
    "larger. We will however cheat a bit and trim the data to only use a few\n",
    "thousand words per language.\n",
    "\n",
    ".. figure:: /_static/img/seq-seq-images/word-encoding.png\n",
    "   :alt:\n",
    "\n",
    "\n",
    "\n"
   ]
  },
  {
   "cell_type": "markdown",
   "metadata": {},
   "source": [
    "We'll need a unique index per word to use as the inputs and targets of\n",
    "the networks later. To keep track of all this we will use a helper class\n",
    "called ``Lang`` which has word → index (``word2index``) and index → word\n",
    "(``index2word``) dictionaries, as well as a count of each word\n",
    "``word2count`` which will be used to replace rare words later.\n",
    "\n",
    "\n"
   ]
  },
  {
   "cell_type": "code",
   "execution_count": 13,
   "metadata": {},
   "outputs": [],
   "source": [
    "SOS_token = 0\n",
    "EOS_token = 1\n",
    "\n",
    "\n",
    "class Lang:\n",
    "    def __init__(self, name):\n",
    "        self.name = name\n",
    "        self.word2index = {}\n",
    "        self.word2count = {}\n",
    "        self.index2word = {0: \"SOS\", 1: \"EOS\"}\n",
    "        self.n_words = 2  # Count SOS and EOS\n",
    "\n",
    "    def addSentence(self, sentence):\n",
    "        for word in sentence.split(' '):\n",
    "            self.addWord(word)\n",
    "\n",
    "    def addWord(self, word):\n",
    "        if word not in self.word2index:\n",
    "            self.word2index[word] = self.n_words\n",
    "            self.word2count[word] = 1\n",
    "            self.index2word[self.n_words] = word\n",
    "            self.n_words += 1\n",
    "        else:\n",
    "            self.word2count[word] += 1"
   ]
  },
  {
   "cell_type": "markdown",
   "metadata": {},
   "source": [
    "The files are all in Unicode, to simplify we will turn Unicode\n",
    "characters to ASCII, make everything lowercase, and trim most\n",
    "punctuation.\n",
    "\n",
    "\n"
   ]
  },
  {
   "cell_type": "code",
   "execution_count": 14,
   "metadata": {},
   "outputs": [],
   "source": [
    "# Turn a Unicode string to plain ASCII, thanks to\n",
    "# https://stackoverflow.com/a/518232/2809427\n",
    "def unicodeToAscii(s):\n",
    "    return ''.join(\n",
    "        c for c in unicodedata.normalize('NFD', s)\n",
    "        if unicodedata.category(c) != 'Mn'\n",
    "    )\n",
    "\n",
    "# Lowercase, trim, and remove non-letter characters\n",
    "\n",
    "\n",
    "def normalizeString(s):\n",
    "    s = unicodeToAscii(s.lower().strip())\n",
    "    s = re.sub(r\"([.!?])\", r\" \\1\", s)\n",
    "    s = re.sub(r\"[^a-zA-Z.!?]+\", r\" \", s)\n",
    "    return s"
   ]
  },
  {
   "cell_type": "markdown",
   "metadata": {},
   "source": [
    "To read the data file we will split the file into lines, and then split\n",
    "lines into pairs. The files are all English → Other Language, so if we\n",
    "want to translate from Other Language → English I added the ``reverse``\n",
    "flag to reverse the pairs.\n",
    "\n",
    "\n"
   ]
  },
  {
   "cell_type": "code",
   "execution_count": 15,
   "metadata": {},
   "outputs": [],
   "source": [
    "def readLangs(lang1, lang2, reverse=False):\n",
    "    print(\"Reading lines...\")\n",
    "\n",
    "    # Read the file and split into lines\n",
    "    lines = open('data/%s-%s.txt' % (lang1, lang2), encoding='utf-8').\\\n",
    "        read().strip().split('\\n')\n",
    "\n",
    "    # Split every line into pairs and normalize\n",
    "    pairs = [[normalizeString(s) for s in l.split('\\t')] for l in lines]\n",
    "\n",
    "    # Reverse pairs, make Lang instances\n",
    "    if reverse:\n",
    "        pairs = [list(reversed(p)) for p in pairs]\n",
    "        input_lang = Lang(lang2)\n",
    "        output_lang = Lang(lang1)\n",
    "    else:\n",
    "        input_lang = Lang(lang1)\n",
    "        output_lang = Lang(lang2)\n",
    "\n",
    "    return input_lang, output_lang, pairs"
   ]
  },
  {
   "cell_type": "markdown",
   "metadata": {},
   "source": [
    "Since there are a *lot* of example sentences and we want to train\n",
    "something quickly, we'll trim the data set to only relatively short and\n",
    "simple sentences. Here the maximum length is 10 words (that includes\n",
    "ending punctuation) and we're filtering to sentences that translate to\n",
    "the form \"I am\" or \"He is\" etc. (accounting for apostrophes replaced\n",
    "earlier).\n",
    "\n",
    "\n"
   ]
  },
  {
   "cell_type": "code",
   "execution_count": 16,
   "metadata": {},
   "outputs": [],
   "source": [
    "MAX_LENGTH = 10\n",
    "\n",
    "eng_prefixes = (\n",
    "    \"i am \", \"i m \",\n",
    "    \"he is\", \"he s \",\n",
    "    \"she is\", \"she s \",\n",
    "    \"you are\", \"you re \",\n",
    "    \"we are\", \"we re \",\n",
    "    \"they are\", \"they re \"\n",
    ")\n",
    "\n",
    "\n",
    "def filterPair(p):\n",
    "    return len(p[0].split(' ')) < MAX_LENGTH and \\\n",
    "        len(p[1].split(' ')) < MAX_LENGTH and \\\n",
    "        p[1].startswith(eng_prefixes)\n",
    "\n",
    "\n",
    "def filterPairs(pairs):\n",
    "    return [pair for pair in pairs if filterPair(pair)]"
   ]
  },
  {
   "cell_type": "markdown",
   "metadata": {},
   "source": [
    "The full process for preparing the data is:\n",
    "\n",
    "-  Read text file and split into lines, split lines into pairs\n",
    "-  Normalize text, filter by length and content\n",
    "-  Make word lists from sentences in pairs\n",
    "\n",
    "\n"
   ]
  },
  {
   "cell_type": "code",
   "execution_count": 19,
   "metadata": {},
   "outputs": [
    {
     "name": "stdout",
     "output_type": "stream",
     "text": [
      "data/eng-fra.txt\n"
     ]
    }
   ],
   "source": [
    "print('data/%s-%s.txt' % ('eng', 'fra'))"
   ]
  },
  {
   "cell_type": "code",
   "execution_count": 17,
   "metadata": {},
   "outputs": [
    {
     "name": "stdout",
     "output_type": "stream",
     "text": [
      "Reading lines...\n",
      "Read 135842 sentence pairs\n",
      "Trimmed to 10599 sentence pairs\n",
      "Counting words...\n",
      "Counted words:\n",
      "fra 4345\n",
      "eng 2803\n",
      "['vous etes belle .', 'you are beautiful .']\n"
     ]
    }
   ],
   "source": [
    "def prepareData(lang1, lang2, reverse=False):\n",
    "    input_lang, output_lang, pairs = readLangs(lang1, lang2, reverse)\n",
    "    print(\"Read %s sentence pairs\" % len(pairs))\n",
    "    pairs = filterPairs(pairs)\n",
    "    print(\"Trimmed to %s sentence pairs\" % len(pairs))\n",
    "    print(\"Counting words...\")\n",
    "    for pair in pairs:\n",
    "        input_lang.addSentence(pair[0])\n",
    "        output_lang.addSentence(pair[1])\n",
    "    print(\"Counted words:\")\n",
    "    print(input_lang.name, input_lang.n_words)\n",
    "    print(output_lang.name, output_lang.n_words)\n",
    "    return input_lang, output_lang, pairs\n",
    "\n",
    "\n",
    "input_lang, output_lang, pairs = prepareData('eng', 'fra', True)\n",
    "print(random.choice(pairs))"
   ]
  },
  {
   "cell_type": "code",
   "execution_count": 26,
   "metadata": {},
   "outputs": [
    {
     "name": "stdout",
     "output_type": "stream",
     "text": [
      "4345\n",
      "{'i': 2, 'm': 3, '.': 4, 'ok': 5, 'fat': 6, 'fit': 7, 'hit': 8, '!': 9, 'ill': 10, 'sad': 11, 'shy': 12, 'wet': 13, 'he': 14, 's': 15, 'am': 16, 'back': 17, 'bald': 18, 'busy': 19, 'calm': 20, 'cold': 21, 'done': 22, 'fine': 23, 'free': 24, 'full': 25, 'glad': 26, 'home': 27, 'late': 28, 'lazy': 29, 'okay': 30, 'safe': 31, 'sick': 32, 'sure': 33, 'tall': 34, 'thin': 35, 'tidy': 36, 'ugly': 37, 'weak': 38, 'well': 39, 'is': 40, 'old': 41, 'a': 42, 'dj': 43, 'good': 44, 'rich': 45, 'here': 46, 'cop': 47, 'man': 48, 'alone': 49, 'armed': 50, 'awake': 51, 'blind': 52, 'broke': 53, 'crazy': 54, 'cured': 55, 'drunk': 56, 'dying': 57, 'early': 58, 'first': 59, 'fussy': 60, 'going': 61, 'loyal': 62, 'lucky': 63, 'lying': 64, 'quiet': 65, 'ready': 66, 'right': 67, 'sober': 68, 'sorry': 69, 'stuck': 70, 'timid': 71, 'tired': 72, 'tough': 73, 'yours': 74, 'she': 75, 'hot': 76, 'we': 77, 're': 78, 'kind': 79, 'poor': 80, 'swiss': 81, 'smart': 82, 'human': 83, 'french': 84, 'korean': 85, 'hero': 86, 'liar': 87, 'baking': 88, 'better': 89, 'buying': 90, 'chubby': 91, 'eating': 92, 'famous': 93, 'faster': 94, 'flabby': 95, 'greedy': 96, 'hiding': 97, 'honest': 98, 'humble': 99, 'hungry': 100, 'immune': 101, 'in': 102, 'bed': 103, 'joking': 104, 'loaded': 105, 'lonely': 106, 'losing': 107, 'moving': 108, 'normal': 109, 'paying': 110, 'pooped': 111, 'rested': 112, 'ruined': 113, 'shaken': 114, 'single': 115, 'skinny': 116, 'sleepy': 117, 'sneaky': 118, 'strict': 119, 'strong': 120, 'thirty': 121, 'wasted': 122, 'nice': 123, 'are': 124, 'men': 125, 'even': 126, 'lost': 127, 'sunk': 128, 'you': 129, 'bad': 130, 'big': 131, 'fun': 132, 'eight': 133, 'hated': 134, 'nasty': 135, 'young': 136, 'hunk': 137, 'jerk': 138, 'nerd': 139, 'slob': 140, 'asleep': 141, 'coming': 142, 'crying': 143, 'faking': 144, 'my': 145, 'age': 146, 'not': 147, 'cook': 148, 'monk': 149, 'taller': 150, 'too': 151, 'finnish': 152, 'italian': 153, 'baker': 154, 'all': 155, 'set': 156, 'ashamed': 157, 'at': 158, 'baffled': 159, 'blessed': 160, 'careful': 161, 'certain': 162, 'chicken': 163, 'correct': 164, 'curious': 165, 'dancing': 166, 'dieting': 167, 'driving': 168, 'engaged': 169, 'excited': 170, 'fasting': 171, 'finicky': 172, 'frantic': 173, 'furious': 174, 'healthy': 175, 'humming': 176, 'luck': 177, 'jealous': 178, 'jittery': 179, 'kidding': 180, 'leaving': 181, 'married': 182, 'no': 183, 'fool': 184, 'mad': 185, 'on': 186, 'duty': 187, 'patient': 188, 'popular': 189, 'psyched': 190, 'psychic': 191, 'puzzled': 192, 'reading': 193, 'relaxed': 194, 'retired': 195, 'selfish': 196, 'serious': 197, 'shocked': 198, 'sincere': 199, 'sloshed': 200, 'so': 201, 'starved': 202, 'staying': 203, 'stuffed': 204, 'stunned': 205, 'talking': 206, 'teasing': 207, 'thirsty': 208, 'through': 209, 'touched': 210, 'unhappy': 211, 'unlucky': 212, 'wealthy': 213, 'winning': 214, 'working': 215, 'worried': 216, 'curt': 217, 'dead': 218, 'dog': 219, 'fox': 220, 'they': 221, 'angry': 222, 'bored': 223, 'happy': 224, 'saved': 225, 'twins': 226, 'cool': 227, 'fair': 228, 'nuts': 229, 'rude': 230, 'poet': 231, 'cranky': 232, 'heroic': 233, 'english': 234, 'bigot': 235, 'pain': 236, 'out': 237, 'now': 238, 'cute': 239, 'coward': 240, 'doctor': 241, 'farmer': 242, 'purist': 243, 'addicted': 244, 'ears': 245, 'an': 246, 'adult': 247, 'agent': 248, 'bleeding': 249, 'confused': 250, 'creative': 251, 'cultured': 252, 'divorced': 253, 'drowning': 254, 'eighteen': 255, 'faithful': 256, 'famished': 257, 'fearless': 258, 'fighting': 259, 'finished': 260, 'freezing': 261, 'grounded': 262, 'gullible': 263, 'homesick': 264, 'hungover': 265, 'paris': 266, 'innocent': 267, 'involved': 268, 'managing': 269, 'new': 270, 'rebel': 271, 'saint': 272, 'deaf': 273, 'dumb': 274, 'evil': 275, 'hurt': 276, 'mean': 277, 'off': 278, 'offended': 279, 'outraged': 280, 'powerful': 281, 'prepared': 282, 'punctual': 283, 'rational': 284, 'reformed': 285, 'reliable': 286, 'restless': 287, 'ruthless': 288, 'shooting': 289, 'sleeping': 290, 'speaking': 291, 'starving': 292, 'stubborn': 293, 'the': 294, 'boss': 295, 'thinking': 296, 'thorough': 297, 'thrilled': 298, 'ticklish': 299, 'truthful': 300, 'unbiased': 301, 'upstairs': 302, 'very': 303, 'worn': 304, 'sharp': 305, 'wrong': 306, 'boys': 307, 'cops': 308, 'gone': 309, 'mine': 310, 'arabs': 311, 'team': 312, 'adults': 313, 'war': 314, 'biased': 315, 'closed': 316, 'dating': 317, 'doomed': 318, 'inside': 319, 'trying': 320, 'bossy': 321, 'cruel': 322, 'fired': 323, 'funny': 324, 'gross': 325, 'moody': 326, 'naive': 327, 'silly': 328, 'upset': 329, 'weird': 330, 'british': 331, 'thief': 332, 'foolish': 333, 'type': 334, 'running': 335, 'skating': 336, 'grouch': 337, 'jesuit': 338, 'senior': 339, 'tycoon': 340, 'adorable': 341, 'after': 342, 'me': 343, 'annoying': 344, 'demented': 345, 'tokyo': 346, 'insecure': 347, 'studying': 348, 'slow': 349, 'your': 350, 'son': 351, 'american': 352, 'japanese': 353, 'muslim': 354, 'runner': 355, 'diabetic': 356, 'student': 357, 'teacher': 358, 'adaptable': 359, 'afraid': 360, 'ambitious': 361, 'artist': 362, 'orphan': 363, 'attentive': 364, 'available': 365, 'beautiful': 366, 'concerned': 367, 'confident': 368, 'contented': 369, 'convinced': 370, 'depressed': 371, 'desperate': 372, 'different': 373, 'disgusted': 374, 'easygoing': 375, 'exhausted': 376, 'forgetful': 377, 'tom': 378, 'hung': 379, 'over': 380, 'impatient': 381, 'important': 382, 'impressed': 383, 'impulsive': 384, 'boston': 385, 'danger': 386, 'intrigued': 387, 'just': 388, 'listening': 389, 'motivated': 390, 'expert': 391, 'fan': 392, 'obese': 393, 'short': 394, 'observant': 395, 'diet': 396, 'way': 397, 'plastered': 398, 'powerless': 399, 'realistic': 400, 'resentful': 401, 'resilient': 402, 'satisfied': 403, 'saying': 404, 'sensitive': 405, 'surprised': 406, 'surviving': 407, 'terrified': 408, 'uninsured': 409, 'unmarried': 410, 'voting': 411, 'falling': 412, 'twin': 413, 'active': 414, 'gentle': 415, 'cutie': 416, 'model': 417, 'awesome': 418, 'asian': 419, 'alive': 420, 'brave': 421, 'clean': 422, 'small': 423, 'spies': 424, 'there': 425, 'group': 426, 'anxious': 427, 'cousins': 428, 'friends': 429, 'love': 430, 'sync': 431, 'town': 432, 'sinking': 433, 'smashed': 434, 'special': 435, 'stalled': 436, 'trapped': 437, 'useless': 438, 'waiting': 439, 'winners': 440, 'doll': 441, 'snob': 442, 'boring': 443, 'bright': 444, 'clever': 445, 'crafty': 446, 'creepy': 447, 'grumpy': 448, 'insane': 449, 'pretty': 450, 'stupid': 451, 'unfair': 452, 'canadian': 453, 'genius': 454, 'writer': 455, 'actor': 456, 'bankrupt': 457, 'uncle': 458, 'outgoing': 459, 'bit': 460, 'gambler': 461, 'slacker': 462, 'author': 463, 'ex': 464, 'con': 465, 'outlaw': 466, 'henpecked': 467, 'prison': 468, 'friend': 469, 'open': 470, 'hungarian': 471, 'boy': 472, 'tourist': 473, 'him': 474, 'london': 475, 'spot': 476, 'today': 477, 'guy': 478, 'musician': 479, 'real': 480, 'salesman': 481, 'against': 482, 'it': 483, 'thumbs': 484, 'astonished': 485, 'behind': 486, 'being': 487, 'used': 488, 'contagious': 489, 'dehydrated': 490, 'dependable': 491, 'devastated': 492, 'doing': 493, 'downstairs': 494, 'exercising': 495, 'farsighted': 496, 'fascinated': 497, 'firing': 498, 'from': 499, 'kyoto': 500, 'having': 501, 'illiterate': 502, 'car': 503, 'interested': 504, 'making': 505, 'tea': 506, 'meditating': 507, 'methodical': 508, 'quitter': 509, 'amused': 510, 'bitter': 511, 'guilty': 512, 'racist': 513, 'scared': 514, 'enough': 515, 'holiday': 516, 'one': 517, 'of': 518, 'optimistic': 519, 'gas': 520, 'prejudiced': 521, 'really': 522, 'reasonable': 523, 'remodeling': 524, 'still': 525, 'successful': 526, 'killer': 527, 'oldest': 528, 'undressing': 529, 'unemployed': 530, 'untalented': 531, 'to': 532, 'vegetarian': 533, 'wide': 534, 'nurse': 535, 'awkward': 536, 'isn': 537, 't': 538, 'beauty': 539, 'hottie': 540, 'looker': 541, 'angel': 542, 'pregnant': 543, 'loud': 544, 'babies': 545, 'idiots': 546, 'couple': 547, 'family': 548, 'brothers': 549, 'escaping': 550, 'grateful': 551, 'helpless': 552, 'obedient': 553, 'partners': 554, 'quitting': 555, 'retiring': 556, 'standing': 557, 'students': 558, 'best': 559, 'last': 560, 'same': 561, 'up': 562, 'morons': 563, 'aren': 564, 'prude': 565, 'amazing': 566, 'amusing': 567, 'callous': 568, 'elusive': 569, 'invited': 570, 'help': 571, 'precise': 572, 'pro': 573, 'welcome': 574, 'dreamer': 575, 'painter': 576, 'paid': 577, 'comedian': 578, 'frat': 579, 'freshman': 580, 'gardener': 581, 'newcomer': 582, 'slowpoke': 583, 'southpaw': 584, 'helping': 585, 'husband': 586, 'partner': 587, 'yet': 588, 'his': 589, 'photogenic': 590, 'bachelor': 591, 'egypt': 592, 'trouble': 593, 'azerbaijani': 594, 'tv': 595, 'addict': 596, 'tipsy': 597, 'foreigner': 598, 'housewife': 599, 'masochist': 600, 'night': 601, 'owl': 602, 'able': 603, 'run': 604, 'ski': 605, 'about': 606, 'adventurous': 607, 'engineer': 608, 'work': 609, 'begging': 610, 'catching': 611, 'celebrating': 612, 'cleaned': 613, 'color': 614, 'comfortable': 615, 'cooperating': 616, 'cracking': 617, 'embarrassed': 618, 'feeling': 619, 'low': 620, 'brazil': 621, 'france': 622, 'turkey': 623, 'zambia': 624, 'getting': 625, 'hardworking': 626, 'heartbroken': 627, 'win': 628, 'hurry': 629, 'interfering': 630, 'introverted': 631, 'left': 632, 'handed': 633, 'nearsighted': 634, 'child': 635, 'crook': 636, 'robot': 637, 'alarmed': 638, 'arguing': 639, 'nervous': 640, 'perfect': 641, 'unarmed': 642, 'vacation': 643, 'only': 644, 'ammo': 645, 'persevering': 646, 'quite': 647, 'rather': 648, 'go': 649, 'replaceable': 650, 'resourceful': 651, 'spontaneous': 652, 'such': 653, 'sympathetic': 654, 'captain': 655, 'surgeon': 656, 'truly': 657, 'trustworthy': 658, 'unambitious': 659, 'unconvinced': 660, 'modest': 661, 'watching': 662, 'lawyer': 663, 'sister': 664, 'singer': 665, 'typist': 666, 'graceful': 667, 'assertive': 668, 'roll': 669, 'actors': 670, 'melons': 671, 'animals': 672, 'doctors': 673, 'outside': 674, 'similar': 675, 'smiling': 676, 'with': 677, 'sons': 678, 'teachers': 679, 'canadians': 680, 'both': 681, 'comedians': 682, 'committed': 683, 'dedicated': 684, 'fixing': 685, 'flattered': 686, 'gardeners': 687, 'gentlemen': 688, 'giving': 689, 'charge': 690, 'newcomers': 691, 'newlyweds': 692, 'fools': 693, 'past': 694, 'that': 695, 'prisoners': 696, 'resigning': 697, 'separated': 698, 'survivors': 699, 'close': 700, 'unrelated': 701, 'naughty': 702, 'tallest': 703, 'idiot': 704, 'arrogant': 705, 'blushing': 706, 'careless': 707, 'charming': 708, 'cheating': 709, 'disloyal': 710, 'forgiven': 711, 'horrible': 712, 'mistaken': 713, 'enemy': 714, 'pathetic': 715, 'picky': 716, 'sweet': 717, 'stalling': 718, 'talented': 719, 'acrobat': 720, 'distracted': 721, 'her': 722, 'pajamas': 723, 'kid': 724, 'brother': 725, 'never': 726, 'liked': 727, 'bartender': 728, 'cat': 729, 'lover': 730, 'gentleman': 731, 'grown': 732, 'historian': 733, 'nonsmoker': 734, 'sophomore': 735, 'side': 736, 'got': 737, 'flu': 738, 'for': 739, 'class': 740, 'intelligent': 741, 'struck': 742, 'like': 743, 'us': 744, 'minded': 745, 'unconscious': 746, 'father': 747, 'professor': 748, 'volunteer': 749, 'cooking': 750, 'dumbfounded': 751, 'russia': 752, 'frying': 753, 'fish': 754, 'time': 755, 'weekly': 756, 'years': 757, 'cousin': 758, 'bank': 759, 'clerk': 760, 'shutterbug': 761, 'swim': 762, 'already': 763, 'always': 764, 'ambidextrous': 765, 'beach': 766, 'between': 767, 'jobs': 768, 'by': 769, 'disappointed': 770, 'dissatisfied': 771, 'lunch': 772, 'fairly': 773, 'freaking': 774, 'america': 775, 'croatia': 776, 'england': 777, 'romania': 778, 'homeschooled': 779, 'housesitting': 780, 'attic': 781, 'house': 782, 'inviting': 783, 'looking': 784, 'killing': 785, 'beggar': 786, 'bluffing': 787, 'bragging': 788, 'counting': 789, 'dreaming': 790, 'paranoid': 791, 'why': 792, 'ideas': 793, 'shape': 794, 'overreacting': 795, 'proud': 796, 'this': 797, 'stronger': 798, 'super': 799, 'volunteering': 800, 'pianist': 801, 'obstinate': 802, 'wise': 803, 'russian': 804, 'artists': 805, 'singers': 806, 'fake': 807, 'traitors': 808, 'unique': 809, 'classmates': 810, 'downsizing': 811, 'down': 812, 'east': 813, 'west': 814, 'half': 815, 'college': 816, 'control': 817, 'lifeguards': 818, 'needed': 819, 'our': 820, 'own': 821, 'speechless': 822, 'surrounded': 823, 'taking': 824, 'owners': 825, 'children': 826, 'deranged': 827, 'fabulous': 828, 'gorgeous': 829, 'hopeless': 830, 'blame': 831, 'traitor': 832, 'conceited': 833, 'courteous': 834, 'fortunate': 835, 'obnoxious': 836, 'shivering': 837, 'talkative': 838, 'tense': 839, 'unethical': 840, 'wonderful': 841, 'eater': 842, 'biologist': 843, 'born': 844, 'daredevil': 845, 'detective': 846, 'dramatist': 847, 'physicist': 848, 'scientist': 849, 'forty': 850, 'desk': 851, 'beyond': 852, 'hope': 853, 'business': 854, 'incompetent': 855, 'influential': 856, 'teaching': 857, 'unrealistic': 858, 'walking': 859, 'journalist': 860, 'movie': 861, 'buff': 862, 'timer': 863, 'undergrad': 864, 'deep': 865, 'debt': 866, 'georgia': 867, 'water': 868, 'arrived': 869, 'and': 870, 'raking': 871, 'quick': 872, 'sound': 873, 'swimming': 874, 'tickled': 875, 'pink': 876, 'trusting': 877, 'person': 878, 'almost': 879, 'bread': 880, 'math': 881, 'die': 882, 'pleased': 883, 'little': 884, 'girl': 885, 'salesperson': 886, 'total': 887, 'wreck': 888, 'myself': 889, 'as': 890, 'school': 891, 'mercy': 892, 'aware': 893, 'awfully': 894, 'watched': 895, 'concentrating': 896, 'extremely': 897, 'dizzy': 898, 'flabbergasted': 899, 'bulgaria': 900, 'colombia': 901, 'city': 902, 'did': 903, 'jump': 904, 'irreplaceable': 905, 'guessing': 906, 'weight': 907, 'monster': 908, 'soldier': 909, 'dangerous': 910, 'rush': 911, 'miserable': 912, 'panicking': 913, 'persuaded': 914, 'fast': 915, 'coach': 916, 'baby': 917, 'maid': 918, 'overworked': 919, 'sore': 920, 'sort': 921, 'dubious': 922, 'bath': 923, 'totally': 924, 'uncomfortable': 925, 'neighbor': 926, 'beginner': 927, 'aggressive': 928, 'attractive': 929, 'unsociable': 930, 'fashionable': 931, 'point': 932, 'hyperactive': 933, 'daughter': 934, 'alike': 935, 'liars': 936, 'cannibals': 937, 'expensive': 938, 'guys': 939, 'undamaged': 940, 'australian': 941, 'related': 942, 'risk': 943, 'cowards': 944, 'changing': 945, 'defenseless': 946, 'great': 947, 'experienced': 948, 'north': 949, 'south': 950, 'handling': 951, 'journalists': 952, 'dressed': 953, 'killers': 954, 'schedule': 955, 'beer': 956, 'milk': 957, 'wine': 958, 'pulling': 959, 'problem': 960, 'actresses': 961, 'hilarious': 962, 'prisoner': 963, 'articulate': 964, 'again': 965, 'courageous': 966, 'disgusting': 967, 'hurting': 968, 'incredible': 969, 'productive': 970, 'remarkable': 971, 'scaring': 972, 'telling': 973, 'leader': 974, 'master': 975, 'polite': 976, 'driver': 977, 'fishmonger': 978, 'loser': 979, 'slim': 980, 'but': 981, 'drinking': 982, 'classmate': 983, 'colleague': 984, 'radio': 985, 'playing': 986, 'golf': 987, 'witted': 988, 'heartless': 989, 'come': 990, 'thick': 991, 'headed': 992, 'learned': 993, 'creationist': 994, 'walker': 995, 'filthy': 996, 'food': 997, 'critic': 998, 'ghostwriter': 999, 'goal': 1000, 'keeper': 1001, 'meth': 1002, 'strange': 1003, 'englishman': 1004, 'aristocrat': 1005, 'closer': 1006, 'earth': 1007, 'cards': 1008, 'shower': 1009, 'overconfident': 1010, 'pushing': 1011, 'fifty': 1012, 'self': 1013, 'employed': 1014, 'scapegoat': 1015, 'flexible': 1016, 'fond': 1017, 'music': 1018, 'portugal': 1019, 'shizuoka': 1020, 'grilling': 1021, 'garden': 1022, 'nobody': 1023, 'learner': 1024, 'rusty': 1025, 'photographer': 1026, 'leave': 1027, 'can': 1028, 'bats': 1029, 'dogs': 1030, 'harassed': 1031, 'promoted': 1032, 'punished': 1033, 'sensible': 1034, 'badly': 1035, 'death': 1036, 'puppy': 1037, 'claustrophobic': 1038, 'once': 1039, 'july': 1040, 'sunday': 1041, 'singapore': 1042, 'gaining': 1043, 'downtown': 1044, 'fight': 1045, 'relax': 1046, 'sleep': 1047, 'skiing': 1048, 'listen': 1049, '?': 1050, 'health': 1051, 'bathtub': 1052, 'beginning': 1053, 'laying': 1054, 'learning': 1055, 'czech': 1056, 'letting': 1057, 'criminal': 1058, 'magician': 1059, 'delusional': 1060, 'denying': 1061, 'away': 1062, 'invincible': 1063, 'overweight': 1064, 'start': 1065, 'seeing': 1066, 'someone': 1067, 'somewhat': 1068, 'shock': 1069, 'suddenly': 1070, 'supporting': 1071, 'terribly': 1072, 'twice': 1073, 'unenthusiastic': 1074, 'using': 1075, 'cup': 1076, 'writing': 1077, 'book': 1078, 'kissing': 1079, 'pigeon': 1080, 'toed': 1081, 'teaser': 1082, 'supermodel': 1083, 'alcoholic': 1084, 'fruit': 1085, 'christians': 1086, 'carnations': 1087, 'disposable': 1088, 'words': 1089, 'part': 1090, 'australians': 1091, 'people': 1092, 'infected': 1093, 'writers': 1094, 'conservative': 1095, 'contributing': 1096, 'try': 1097, 'halfway': 1098, 'honeymooning': 1099, 'library': 1100, 'nearly': 1101, 'soldiers': 1102, 'money': 1103, 'stock': 1104, 'tight': 1105, 'slowing': 1106, 'turning': 1107, 'under': 1108, 'attack': 1109, 'unprejudiced': 1110, 'impossible': 1111, 'softy': 1112, 'gal': 1113, 'woman': 1114, 'racists': 1115, 'avoiding': 1116, 'considerate': 1117, 'extroverted': 1118, 'fascinating': 1119, 'princess': 1120, 'bruised': 1121, 'list': 1122, 'green': 1123, 'touching': 1124, 'red': 1125, 'astute': 1126, 'direct': 1127, 'hard': 1128, 'worker': 1129, 'fellow': 1130, 'size': 1131, 'apt': 1132, 'forget': 1133, 'office': 1134, 'indeed': 1135, 'far': 1136, 'rugby': 1137, 'religious': 1138, 'kilos': 1139, 'probably': 1140, 'walk': 1141, 'lean': 1142, 'lie': 1143, 'sociable': 1144, 'washing': 1145, 'wearing': 1146, 'hat': 1147, 'cardiologist': 1148, 'chain': 1149, 'smoker': 1150, 'kisser': 1151, 'bloomer': 1152, 'loose': 1153, 'cannon': 1154, 'scriptwriter': 1155, 'opera': 1156, 'behaving': 1157, 'oddly': 1158, 'before': 1159, 'headache': 1160, 'fifties': 1161, 'kitchen': 1162, 'known': 1163, 'likely': 1164, 'sentry': 1165, 'than': 1166, 'skeptical': 1167, 'swimmer': 1168, 'electrician': 1169, 'noodles': 1170, 'care': 1171, 'study': 1172, 'mother': 1173, 'older': 1174, 'peeling': 1175, 'apples': 1176, 'tennis': 1177, 'hear': 1178, 'chosen': 1179, 'light': 1180, 'sleeper': 1181, 'perfectionist': 1182, 'social': 1183, 'stranger': 1184, 'absolutely': 1185, 'service': 1186, 'thirst': 1187, 'apple': 1188, 'fed': 1189, 'thank': 1190, 'be': 1191, 'see': 1192, 'saw': 1193, 'trip': 1194, 'science': 1195, 'singing': 1196, 'underwear': 1197, 'incredibly': 1198, 'indebted': 1199, 'loner': 1200, 'basque': 1201, 'tonight': 1202, 'living': 1203, 'dream': 1204, 'progress': 1205, 'more': 1206, 'longer': 1207, 'apologizing': 1208, 'blaming': 1209, 'either': 1210, 'complaining': 1211, 'disagreeing': 1212, 'discouraged': 1213, 'any': 1214, 'mood': 1215, 'intimidated': 1216, 'them': 1217, 'presentable': 1218, 'manager': 1219, 'customer': 1220, 'practice': 1221, 'perfectly': 1222, 'dad': 1223, 'without': 1224, 'breath': 1225, 'slightly': 1226, 'forgot': 1227, 'undecided': 1228, 'job': 1229, 'traveling': 1230, 'frustrated': 1231, 'turn': 1232, 'novel': 1233, 'speak': 1234, 'chatterbox': 1235, 'mannered': 1236, 'dark': 1237, 'skinned': 1238, 'cake': 1239, 'natured': 1240, 'blonde': 1241, 'gossip': 1242, 'true': 1243, 'been': 1244, 'poisoned': 1245, 'penniless': 1246, 'minor': 1247, 'willed': 1248, 'guests': 1249, 'thieves': 1250, 'ignoring': 1251, 'witnesses': 1252, 'among': 1253, 'together': 1254, 'closing': 1255, 'conscientious': 1256, 'finally': 1257, 'hunting': 1258, 'dinner': 1259, 'starting': 1260, 'date': 1261, 'strangers': 1262, 'tomorrow': 1263, 'coffee': 1264, 'tempting': 1265, 'fate': 1266, 've': 1267, 'cantankerous': 1268, 'incorrigible': 1269, 'irresistible': 1270, 'hook': 1271, 'booze': 1272, 'order': 1273, 'sugar': 1274, 'poisoning': 1275, 'flirt': 1276, 'greatest': 1277, 'sweetest': 1278, 'forward': 1279, 'helpful': 1280, 'stylish': 1281, 'wasting': 1282, 'speaker': 1283, 'handsome': 1284, 'harsh': 1285, 'faith': 1286, 'cookie': 1287, 'unsung': 1288, 'breathing': 1289, 'sixty': 1290, 'five': 1291, 'feet': 1292, 'energy': 1293, 'soccer': 1294, 'please': 1295, 'usual': 1296, 'cookies': 1297, 'precious': 1298, 'savage': 1299, 'sadly': 1300, 'gloves': 1301, 'willing': 1302, 'influence': 1303, 'computer': 1304, 'freak': 1305, 'case': 1306, 'smooth': 1307, 'talker': 1308, 'player': 1309, 'dance': 1310, 'lung': 1311, 'cancer': 1312, 'grave': 1313, 'everyone': 1314, 'missed': 1315, 'boat': 1316, 'offered': 1317, 'position': 1318, 'smarter': 1319, 'clown': 1320, 'chair': 1321, 'protective': 1322, 'bears': 1323, 'forced': 1324, 'do': 1325, 'drawing': 1326, 'story': 1327, 'weighing': 1328, 'citizen': 1329, 'windows': 1330, 'complete': 1331, 'natural': 1332, 'flying': 1333, 'bill': 1334, 'allergic': 1335, 'cats': 1336, 'corn': 1337, 'disposal': 1338, 'attracted': 1339, 'calling': 1340, 'security': 1341, 'checking': 1342, 'options': 1343, 'door': 1344, 'depending': 1345, 'dishes': 1346, 'expecting': 1347, 'call': 1348, 'stressed': 1349, 'something': 1350, 'hired': 1351, 'meet': 1352, 'met': 1353, 'hardly': 1354, 'ever': 1355, 'every': 1356, 'save': 1357, 'highly': 1358, 'hitting': 1359, 'road': 1360, 'another': 1361, 'snowman': 1362, 'anymore': 1363, 'marrying': 1364, 'sitting': 1365, 'stopping': 1366, 'sides': 1367, 'servant': 1368, 'often': 1369, 'pressing': 1370, 'charges': 1371, 'if': 1372, 'beside': 1373, 'shorter': 1374, 'shot': 1375, 'll': 1376, 'terrible': 1377, 'unnecessary': 1378, 'letter': 1379, 'biggest': 1380, 'dancer': 1381, 'skate': 1382, 'sports': 1383, 'line': 1384, 'hostile': 1385, 'abroad': 1386, 'girlfriend': 1387, 'skipping': 1388, 'rope': 1389, 'belly': 1390, 'two': 1391, 'ooita': 1392, 'books': 1393, 'emotional': 1394, 'approaching': 1395, 'sisters': 1396, 'sing': 1397, 'tourists': 1398, 'find': 1399, 'threat': 1400, 'rules': 1401, 'sending': 1402, 'eleven': 1403, 'eat': 1404, 'six': 1405, 'vulnerable': 1406, 'attacked': 1407, 'blood': 1408, 'warmer': 1409, 'shopping': 1410, 'begin': 1411, 'blast': 1412, 'company': 1413, 'recession': 1414, 'barbarians': 1415, 'sued': 1416, 'evacuating': 1417, 'terrorists': 1418, 'bullets': 1419, 'protecting': 1420, 'underage': 1421, 'workaholic': 1422, 'arrest': 1423, 'what': 1424, 'german': 1425, 'double': 1426, 'parked': 1427, 'lose': 1428, 'suspect': 1429, 'opportunistic': 1430, 'overemotional': 1431, 'putting': 1432, 'growing': 1433, 'temperamental': 1434, 'unforgettable': 1435, 'generous': 1436, 'prankster': 1437, 'heroin': 1438, 'fossil': 1439, 'reason': 1440, 'vision': 1441, 'wealth': 1442, 'wisdom': 1443, 'shooter': 1444, 'spoiled': 1445, 'above': 1446, 'suspicion': 1447, 'laughing': 1448, 'army': 1449, 'officer': 1450, 'blinded': 1451, 'eager': 1452, 'bathroom': 1453, 'amateur': 1454, 'thought': 1455, 'ordinary': 1456, 'was': 1457, 'said': 1458, 'show': 1459, 'success': 1460, 'succeed': 1461, 'unable': 1462, 'glasses': 1463, 'lad': 1464, 'notorious': 1465, 'snakes': 1466, 'absolute': 1467, 'oceanographer': 1468, 'enjoying': 1469, 'himself': 1470, 'into': 1471, 'power': 1472, 'chinese': 1473, 'legs': 1474, 'their': 1475, 'parents': 1476, 'folding': 1477, 'dress': 1478, 'harvesting': 1479, 'wheat': 1480, 'classroom': 1481, 'near': 1482, 'station': 1483, 'match': 1484, 'football': 1485, 'heights': 1486, 'nothing': 1487, 'spiders': 1488, 'tricks': 1489, 'restaurant': 1490, 'blackmailed': 1491, 'homework': 1492, 'dreading': 1493, 'exam': 1494, 'sandwich': 1495, 'failing': 1496, 'japan': 1497, 'undressed': 1498, 'miss': 1499, 'watch': 1500, 'apologize': 1501, 'course': 1502, 'disbeliever': 1503, 'drug': 1504, 'millionaire': 1505, 'entirely': 1506, 'following': 1507, 'look': 1508, 'stop': 1509, 'talk': 1510, 'wait': 1511, 'anyway': 1512, 'narrow': 1513, 'unsympathetic': 1514, 'athletic': 1515, 'socks': 1516, 'break': 1517, 'place': 1518, 'game': 1519, 'rarely': 1520, 'swamped': 1521, 'chess': 1522, 'cry': 1523, 'noise': 1524, 'drawn': 1525, 'smoking': 1526, 'sewing': 1527, 'nature': 1528, 'had': 1529, 'life': 1530, 'clueless': 1531, 'smartly': 1532, 'criminals': 1533, 'completely': 1534, 'dealing': 1535, 'nowhere': 1536, 'practicing': 1537, 'responsible': 1538, 'daughters': 1539, 'seriously': 1540, 'laugh': 1541, 'kids': 1542, 'excuses': 1543, 'analyzing': 1544, 'leg': 1545, 'think': 1546, 'predictable': 1547, 'efficient': 1548, 'worse': 1549, 'birth': 1550, 'capable': 1551, 'carpenter': 1552, 'lovable': 1553, 'ability': 1554, 'eye': 1555, 'jazz': 1556, 'equal': 1557, 'painting': 1558, 'ambition': 1559, 'murder': 1560, 'need': 1561, 'outdoors': 1562, 'odd': 1563, 'riding': 1564, 'bicycle': 1565, 'brick': 1566, 'junior': 1567, 'employee': 1568, 'word': 1569, 'acting': 1570, 'drugs': 1571, 'sea': 1572, 'ahead': 1573, 'race': 1574, 'bat': 1575, 'sit': 1576, 'spy': 1577, 'leaning': 1578, 'cane': 1579, 'worthy': 1580, 'sweetheart': 1581, 'diary': 1582, 'brushing': 1583, 'teeth': 1584, 'next': 1585, 'week': 1586, 'month': 1587, 'sixteen': 1588, 'few': 1589, 'minutes': 1590, 'taxi': 1591, 'accustomed': 1592, 'gluten': 1593, 'allowing': 1594, 'body': 1595, 'party': 1596, 'airport': 1597, 'facts': 1598, 'risks': 1599, 'held': 1600, 'hostage': 1601, 'moment': 1602, 'wrecked': 1603, 'came': 1604, 'australia': 1605, 'honored': 1606, 'club': 1607, 'longing': 1608, 'key': 1609, 'grass': 1610, 'professional': 1611, 'riser': 1612, 'answering': 1613, 'disputing': 1614, 'anywhere': 1615, 'organized': 1616, 'boyfriend': 1617, 'when': 1618, 'reporting': 1619, 'hearing': 1620, 'youngest': 1621, 'argue': 1622, 'drive': 1623, 'remember': 1624, 'sunglasses': 1625, 'gifted': 1626, 'fraud': 1627, 'theft': 1628, 'habitually': 1629, 'glamorous': 1630, 'witch': 1631, 'grumbling': 1632, 'hotel': 1633, 'monopoly': 1634, 'rolling': 1635, 'younger': 1636, 'cheerful': 1637, 'tub': 1638, 'get': 1639, 'noon': 1640, 'agreement': 1641, 'also': 1642, 'eggs': 1643, 'imagining': 1644, 'things': 1645, 'investigating': 1646, 'hanging': 1647, 'ashore': 1648, 'troublemaker': 1649, 'consistent': 1650, 'malicious': 1651, 'cuter': 1652, 'mary': 1653, 'embarrassing': 1654, 'blush': 1655, 'wanted': 1656, 'pack': 1657, 'rat': 1658, 'perceptive': 1659, 'composer': 1660, 'friendly': 1661, 'medical': 1662, 'champion': 1663, 'boiling': 1664, 'rage': 1665, 'picture': 1666, 'task': 1667, 'fluent': 1668, 'adventure': 1669, 'sofa': 1670, 'seems': 1671, 'board': 1672, 'ship': 1673, 'chemistry': 1674, 'respected': 1675, 'have': 1676, 'died': 1677, 'smelling': 1678, 'soup': 1679, 'horse': 1680, 'cheat': 1681, 'lovely': 1682, 'world': 1683, 'cleaning': 1684, 'rifle': 1685, 'everybody': 1686, 'arithmetic': 1687, 'hopelessly': 1688, 'mumbling': 1689, 'floor': 1690, 'sketching': 1691, 'drink': 1692, 'understanding': 1693, 'coat': 1694, 'loved': 1695, 'magazine': 1696, 'fastest': 1697, 'climb': 1698, 'acquainted': 1699, 'will': 1700, 'rain': 1701, 'seafood': 1702, 'bear': 1703, 'loss': 1704, 'charmed': 1705, 'chores': 1706, 'dripping': 1707, 'sweat': 1708, 'emotionally': 1709, 'drained': 1710, 'wife': 1711, 'much': 1712, 'how': 1713, 'coast': 1714, 'fully': 1715, 'enjoyed': 1716, 'police': 1717, 'protect': 1718, 'head': 1719, 'average': 1720, 'around': 1721, 'advocating': 1722, 'easily': 1723, 'fishing': 1724, 'names': 1725, 'anything': 1726, 'disturbed': 1727, 'suggestions': 1728, 'name': 1729, 'who': 1730, 'everything': 1731, 'pretending': 1732, 'train': 1733, 'bus': 1734, 'giver': 1735, 'bee': 1736, 'blackmailing': 1737, 'white': 1738, 'most': 1739, 'prettier': 1740, 'present': 1741, 'awful': 1742, 'knitting': 1743, 'scarf': 1744, 'brooch': 1745, 'lady': 1746, 'heating': 1747, 'keys': 1748, 'pet': 1749, 'unfit': 1750, 'gathering': 1751, 'salad': 1752, 'girls': 1753, 'sufficient': 1754, 'four': 1755, 'breakfast': 1756, 'spanish': 1757, 'mondays': 1758, 'gonna': 1759, 'make': 1760, 'terms': 1761, 'ammunition': 1762, 'dear': 1763, 'hypocritical': 1764, 'blocking': 1765, 'view': 1766, 'easy': 1767, 'missing': 1768, 'three': 1769, 'hours': 1770, 'ignorant': 1771, 'trespassing': 1772, 'character': 1773, 'typical': 1774, 'absent': 1775, 'means': 1776, 'fresh': 1777, 'gymnastics': 1778, 'beat': 1779, 'opening': 1780, 'window': 1781, 'seeking': 1782, 'employment': 1783, 'drunkard': 1784, 'hearted': 1785, 'sorcerer': 1786, 'excellent': 1787, 'church': 1788, 'ten': 1789, 'state': 1790, 'aboard': 1791, 'wiser': 1792, 'fail': 1793, 'content': 1794, 'afternoon': 1795, 'warming': 1796, 'romantic': 1797, 'video': 1798, 'games': 1799, 'follow': 1800, 'honesty': 1801, 'long': 1802, 'member': 1803, 'university': 1804, 'definitely': 1805, 'delighted': 1806, 'feeding': 1807, 'goldfish': 1808, 'hang': 1809, 'hay': 1810, 'regret': 1811, 'shut': 1812, 'take': 1813, 'started': 1814, 'wallet': 1815, 'documentary': 1816, 'know': 1817, 'morning': 1818, 'native': 1819, 'violent': 1820, 'ask': 1821, 'anyone': 1822, 'ghosts': 1823, 'allowed': 1824, 'asking': 1825, 'breaking': 1826, 'law': 1827, 'gambling': 1828, 'compete': 1829, 'sell': 1830, 'inspired': 1831, 'plans': 1832, 'overly': 1833, 'selling': 1834, 'signing': 1835, 'clearly': 1836, 'amends': 1837, 'extrovert': 1838, 'introvert': 1839, 'phone': 1840, 'plan': 1841, 'worth': 1842, 'appalling': 1843, 'hair': 1844, 'advice': 1845, 'wallflower': 1846, 'herself': 1847, 'determined': 1848, 'drop': 1849, 'machine': 1850, 'shadow': 1851, 'high': 1852, 'heels': 1853, 'investing': 1854, 'lot': 1855, 'compatible': 1856, 'song': 1857, 'shop': 1858, 'sold': 1859, 'jeans': 1860, 'command': 1861, 'agreed': 1862, 'deluding': 1863, 'ourselves': 1864, 'pride': 1865, 'joy': 1866, 'insensitive': 1867, 'nagging': 1868, 'disobeying': 1869, 'orders': 1870, 'surprises': 1871, 'impressing': 1872, 'spoiling': 1873, 'tattletale': 1874, 'twisting': 1875, 'society': 1876, 'novelist': 1877, 'cocaine': 1878, 'day': 1879, 'environmentalist': 1880, 'or': 1881, 'inclined': 1882, 'neighbors': 1883, 'room': 1884, 'soon': 1885, 'doubts': 1886, 'overwork': 1887, 'buy': 1888, 'slowly': 1889, 'chasing': 1890, 'does': 1891, 'closet': 1892, 'congress': 1893, 'mind': 1894, 'forever': 1895, 'fourteen': 1896, 'shirts': 1897, 'hers': 1898, 'castle': 1899, 'these': 1900, 'days': 1901, 'watering': 1902, 'flowers': 1903, 'don': 1904, 'cannot': 1905, 'earthquakes': 1906, 'pressure': 1907, 'end': 1908, 'attaching': 1909, 'files': 1910, 'hate': 1911, 'bringing': 1912, 'pizza': 1913, 'pick': 1914, 'considering': 1915, 'cutting': 1916, 'thing': 1917, 'actually': 1918, 'finishing': 1919, 'information': 1920, 'could': 1921, 'realize': 1922, 'while': 1923, 'build': 1924, 'fire': 1925, 'hospital': 1926, 'beard': 1927, 'keeping': 1928, 'mouth': 1929, 'sweater': 1930, 'batteries': 1931, 'camera': 1932, 'majoring': 1933, 'sociology': 1934, 'exactly': 1935, 'pass': 1936, 'touch': 1937, 'other': 1938, 'anybody': 1939, 'planning': 1940, 'pressed': 1941, 'supposed': 1942, 'understand': 1943, 'heat': 1944, 'usually': 1945, 'newspaper': 1946, 'relieved': 1947, 'relieving': 1948, 'yelled': 1949, 'yesterday': 1950, 'kabuki': 1951, 'drama': 1952, 'suffering': 1953, 'would': 1954, 'approve': 1955, 'languages': 1956, 'marry': 1957, 'rent': 1958, 'stealing': 1959, 'piano': 1960, 'peace': 1961, 'consequence': 1962, 'wolves': 1963, 'movies': 1964, 'some': 1965, 'because': 1966, 'wall': 1967, 'teenager': 1968, 'yourself': 1969, 'track': 1970, 'lies': 1971, 'live': 1972, 'sophisticated': 1973, 'compulsive': 1974, 'noble': 1975, 'harvard': 1976, 'absorbed': 1977, 'treachery': 1978, 'baseball': 1979, 'china': 1980, 'concert': 1981, 'hunted': 1982, 'front': 1983, 'mentally': 1984, 'handicapped': 1985, 'altogether': 1986, 'neighbours': 1987, 'cross': 1988, 'legged': 1989, 'hill': 1990, 'agriculture': 1991, 'suspected': 1992, 'robbery': 1993, 'pool': 1994, 'praise': 1995, 'construction': 1996, 'abiding': 1997, 'many': 1998, 'talents': 1999, 'feller': 2000, 'junk': 2001, 'comics': 2002, 'digging': 2003, 'buddy': 2004, 'skilled': 2005, 'videogames': 2006, 'somewhere': 2007, 'park': 2008, 'helped': 2009, 'optimist': 2010, 'evening': 2011, 'news': 2012, 'stairs': 2013, 'sundays': 2014, 'difficulties': 2015, 'neck': 2016, 'black': 2017, 'belt': 2018, 'karate': 2019, 'bum': 2020, 'caught': 2021, 'wild': 2022, 'breast': 2023, 'salary': 2024, 'declaring': 2025, 'emergency': 2026, 'departing': 2027, 'move': 2028, 'nap': 2029, 'reconsider': 2030, 'tell': 2031, 'stating': 2032, 'survive': 2033, 'mom': 2034, 'unreasonable': 2035, 'disappear': 2036, 'sign': 2037, 'parties': 2038, 'believe': 2039, 'chances': 2040, 'truth': 2041, 'easter': 2042, 'egg': 2043, 'reluctant': 2044, 'visit': 2045, 'saving': 2046, 'temper': 2047, 'mistake': 2048, 'interrupt': 2049, 'traffic': 2050, 'jam': 2051, 'built': 2052, 'killed': 2053, 'mcdonald': 2054, 'currently': 2055, 'forbidden': 2056, 'worst': 2057, 'editor': 2058, 'chief': 2059, 'eyes': 2060, 'fallen': 2061, 'bench': 2062, 'annoy': 2063, 'looked': 2064, 'lab': 2065, 'minds': 2066, 'americans': 2067, 'market': 2068, 'tickets': 2069, 'play': 2070, 'heading': 2071, 'disaster': 2072, 'meant': 2073, 'each': 2074, 'throwing': 2075, 'page': 2076, 'practically': 2077, 'deceiving': 2078, 'plane': 2079, 'unbelievably': 2080, 'others': 2081, 'germans': 2082, 'jolly': 2083, 'interesting': 2084, 'fooling': 2085, 'trust': 2086, 'testing': 2087, 'patience': 2088, 'investigation': 2089, 'mathematical': 2090, 'promising': 2091, 'neatly': 2092, 'authority': 2093, 'clumsy': 2094, 'hands': 2095, 'photos': 2096, 'thirties': 2097, 'crime': 2098, 'proficient': 2099, 'roasting': 2100, 'beans': 2101, 'stage': 2102, 'marketing': 2103, 'tremendously': 2104, 'freelance': 2105, 'independent': 2106, 'thinker': 2107, 'brighter': 2108, 'cellphone': 2109, 'join': 2110, 'rough': 2111, 'edges': 2112, 'screaming': 2113, 'o': 2114, 'clock': 2115, 'sir': 2116, 'management': 2117, 'consultant': 2118, 'suggestion': 2119, 'actress': 2120, 'deeply': 2121, 'pictures': 2122, 'propose': 2123, 'shoot': 2124, 'focusing': 2125, 'allow': 2126, 'negotiating': 2127, 'suggesting': 2128, 'presents': 2129, 'complaints': 2130, 'dislike': 2131, 'persuade': 2132, 'suspicious': 2133, 'wondering': 2134, 'neat': 2135, 'certainly': 2136, 'contemplating': 2137, 'bride': 2138, 'happiness': 2139, 'gracious': 2140, 'spirits': 2141, 'muttering': 2142, 'potatoes': 2143, 'qualified': 2144, 'executive': 2145, 'annoyed': 2146, 'blue': 2147, 'inquisitive': 2148, 'happier': 2149, 'heavier': 2150, 'dreams': 2151, 'themselves': 2152, 'employees': 2153, 'dollars': 2154, 'mistakes': 2155, 'clothes': 2156, 'mild': 2157, 'winter': 2158, 'manipulated': 2159, 'players': 2160, 'keep': 2161, 'officially': 2162, 'sheet': 2163, 'cleared': 2164, 'takeoff': 2165, 'liable': 2166, 'mighty': 2167, 'attention': 2168, 'savvy': 2169, 'negotiator': 2170, 'gang': 2171, 'scare': 2172, 'profession': 2173, 'failure': 2174, 'bound': 2175, 'president': 2176, 'constantly': 2177, 'attached': 2178, 'become': 2179, 'inch': 2180, 'mayor': 2181, 'preparing': 2182, 'test': 2183, 'meeting': 2184, 'funds': 2185, 'criticism': 2186, 'trusted': 2187, 'pioneer': 2188, 'scholar': 2189, 'faults': 2190, 'socializing': 2191, 'amazed': 2192, 'audacity': 2193, 'conduct': 2194, 'doubtful': 2195, 'familiar': 2196, 'write': 2197, 'learn': 2198, 'year': 2199, 'truck': 2200, 'reader': 2201, 'rumor': 2202, 'assuming': 2203, 'auditioning': 2204, 'possibility': 2205, 'feel': 2206, 'smell': 2207, 'shoes': 2208, 'spite': 2209, 'weather': 2210, 'guidelines': 2211, 'fact': 2212, 'want': 2213, 'understands': 2214, 'brought': 2215, 'change': 2216, 'shirt': 2217, 'figure': 2218, 'fix': 2219, 'fly': 2220, 'moon': 2221, 'give': 2222, 'let': 2223, 'respond': 2224, 'use': 2225, 'problems': 2226, 'situation': 2227, 'frightened': 2228, 'particularly': 2229, 'corner': 2230, 'seat': 2231, 'promise': 2232, 'reasons': 2233, 'height': 2234, 'secrets': 2235, 'germany': 2236, 'bowl': 2237, 'spoon': 2238, 'future': 2239, 'second': 2240, 'educated': 2241, 'envious': 2242, 'thunder': 2243, 'imitating': 2244, 'staff': 2245, 'remarkably': 2246, 'toward': 2247, 'sorority': 2248, 'animal': 2249, 'abuse': 2250, 'dragging': 2251, 'torture': 2252, 'storm': 2253, 'favor': 2254, 'damage': 2255, 'suitable': 2256, 'criticizing': 2257, 'carrying': 2258, 'maniac': 2259, 'diplomatic': 2260, 'straight': 2261, 'blameless': 2262, 'pants': 2263, 'required': 2264, 'dentist': 2265, 'deal': 2266, 'field': 2267, 'guitar': 2268, 'becoming': 2269, 'ideal': 2270, 'utter': 2271, 'behavior': 2272, 'else': 2273, 'devoid': 2274, 'earning': 2275, 'computers': 2276, 'collection': 2277, 'image': 2278, 'fear': 2279, 'speeches': 2280, 'situations': 2281, 'rare': 2282, 'individual': 2283, 'businessman': 2284, 'women': 2285, 'cunning': 2286, 'manipulative': 2287, 'river': 2288, 'telephone': 2289, 'sloppy': 2290, 'result': 2291, 'safety': 2292, 'aids': 2293, 'research': 2294, 'summer': 2295, 'voice': 2296, 'assistant': 2297, 'seventeen': 2298, 'respectable': 2299, 'medicine': 2300, 'subject': 2301, 'monday': 2302, 'opportunity': 2303, 'makes': 2304, 'hanover': 2305, 'wash': 2306, 'grandmother': 2307, 'lately': 2308, 'comparing': 2309, 'misunderstood': 2310, 'flight': 2311, 'turned': 2312, 'seen': 2313, 'january': 2314, 'middle': 2315, 'survived': 2316, 'fussing': 2317, 'october': 2318, 'barking': 2319, 'rose': 2320, 'devoted': 2321, 'paralyzed': 2322, 'progressing': 2323, 'weekdays': 2324, 'neither': 2325, 'nor': 2326, 'catch': 2327, 'cream': 2328, 'crop': 2329, 'travel': 2330, 'paint': 2331, 'basketball': 2332, 'bug': 2333, 'butterfly': 2334, 'childish': 2335, 'sometimes': 2336, 'aiming': 2337, 'path': 2338, 'preaching': 2339, 'choir': 2340, 'resting': 2341, 'trained': 2342, 'thoughtful': 2343, 'behalf': 2344, 'forgetting': 2345, 'read': 2346, 'questions': 2347, 'facing': 2348, 'chicago': 2349, 'celebrity': 2350, 'fits': 2351, 'anger': 2352, 'toothache': 2353, 'director': 2354, 'grandfather': 2355, 'meticulous': 2356, 'obsessed': 2357, 'cleanliness': 2358, 'europe': 2359, 'proposal': 2360, 'positive': 2361, 'adamant': 2362, 'should': 2363, 'pattern': 2364, 'treated': 2365, 'chocolate': 2366, 'cell': 2367, 'warm': 2368, 'entitled': 2369, 'opinion': 2370, 'chance': 2371, 'fall': 2372, 'ambulance': 2373, 'kill': 2374, 'secret': 2375, 'plain': 2376, 'buck': 2377, 'politics': 2378, 'jacket': 2379, 'york': 2380, 'times': 2381, 'linux': 2382, 'laptop': 2383, 'sensing': 2384, 'hostility': 2385, 'bothering': 2386, 'bothered': 2387, 'skills': 2388, 'training': 2389, 'triathlon': 2390, 'trading': 2391, 'firm': 2392, 'ironing': 2393, 'handkerchiefs': 2394, 'appearing': 2395, 'appreciated': 2396, 'lacking': 2397, 'common': 2398, 'sense': 2399, 'cynical': 2400, 'valuable': 2401, 'ring': 2402, 'adequate': 2403, 'dependent': 2404, 'worrying': 2405, 'exams': 2406, 'loving': 2407, 'hog': 2408, 'wraps': 2409, 'malaria': 2410, 'crisis': 2411, 'square': 2412, 'freeze': 2413, 'thanksgiving': 2414, 'abusing': 2415, 'ruin': 2416, 'went': 2417, 'committee': 2418, 'imaginative': 2419, 'illness': 2420, 'manners': 2421, 'explain': 2422, 'included': 2423, 'demands': 2424, 'marriage': 2425, 'unpopular': 2426, 'mountain': 2427, 'slingshot': 2428, 'evicted': 2429, 'physical': 2430, 'condition': 2431, 'lived': 2432, 'entire': 2433, 'public': 2434, 'custom': 2435, 'must': 2436, 'innocence': 2437, 'picnic': 2438, 'least': 2439, 'troubled': 2440, 'experience': 2441, 'may': 2442, 'might': 2443, 'experiencing': 2444, 'heartburn': 2445, 'those': 2446, 'teach': 2447, 'lesson': 2448, 'basics': 2449, 'canada': 2450, 'penpal': 2451, 'criticized': 2452, 'waste': 2453, 'answer': 2454, 'obviously': 2455, 'say': 2456, 'competent': 2457, 'challenge': 2458, 'sleeves': 2459, 'throw': 2460, 'towel': 2461, 'space': 2462, 'cash': 2463, 'response': 2464, 'bawling': 2465, 'jogging': 2466, 'purchase': 2467, 'assistance': 2468, 'mathematics': 2469, 'broom': 2470, 'stick': 2471, 'distantly': 2472, 'june': 2473, 'materialistic': 2474, 'shallow': 2475, 'admitting': 2476, 'broadway': 2477, 'avenue': 2478, 'discussing': 2479, 'united': 2480, 'states': 2481, 'competitors': 2482, 'doubting': 2483, 'loves': 2484, 'ceremonies': 2485, 'potential': 2486, 'wolf': 2487, 'sheep': 2488, 'clothing': 2489, 'umbrella': 2490, 'apart': 2491, 'relatives': 2492, 'department': 2493, 'stingy': 2494, 'lives': 2495, 'india': 2496, 'carbon': 2497, 'copy': 2498, 'crybaby': 2499, 'soft': 2500, 'grand': 2501, 'auto': 2502, 'proposition': 2503, 'jewelry': 2504, 'store': 2505, 'monotonous': 2506, 'cleverness': 2507, 'responsibilities': 2508, 'chop': 2509, 'tree': 2510, 'rewrite': 2511, 'report': 2512, 'send': 2513, 'regular': 2514, 'face': 2515, 'impress': 2516, 'performance': 2517, 'hamburgers': 2518, 'birthday': 2519, 'bother': 2520, 'recognize': 2521, 'won': 2522, 'happen': 2523, 'jet': 2524, 'lag': 2525, 'number': 2526, 'television': 2527, 'accept': 2528, 'offer': 2529, 'songs': 2530, 'feeds': 2531, 'businesswoman': 2532, 'violinist': 2533, 'renown': 2534, 'possible': 2535, 'promised': 2536, 'colleagues': 2537, 'ones': 2538, 'barely': 2539, 'minimum': 2540, 'wage': 2541, 'samples': 2542, 'choosing': 2543, 'supportive': 2544, 'interrupting': 2545, 'archeologist': 2546, 'enrolled': 2547, 'country': 2548, 'concerns': 2549, 'unsatisfied': 2550, 'violin': 2551, 'towards': 2552, 'spoken': 2553, 'knives': 2554, 'notice': 2555, 'decided': 2556, 'heart': 2557, 'experiences': 2558, 'lagging': 2559, 'cotton': 2560, 'succeeded': 2561, 'christmas': 2562, 'mumps': 2563, 'spend': 2564, 'izu': 2565, 'weekend': 2566, 'demonstration': 2567, 'compared': 2568, 'further': 2569, 'apparently': 2570, 'twenty': 2571, 'snow': 2572, 'letters': 2573, 'semester': 2574, 'newspapers': 2575, 'spraying': 2576, 'trees': 2577, 'fantasy': 2578, 'planet': 2579, 'hawaii': 2580, 'interruption': 2581, 'creek': 2582, 'paddle': 2583, 'limited': 2584, 'budget': 2585, 'responsibility': 2586, 'humanity': 2587, 'reporter': 2588, 'airplane': 2589, 'simple': 2590, 'less': 2591, 'madly': 2592, 'art': 2593, 'accident': 2594, 'wandering': 2595, 'trance': 2596, 'chairman': 2597, 'hyogo': 2598, 'whether': 2599, 'repairing': 2600, 'weeks': 2601, 'yawning': 2602, 'oriental': 2603, 'pottery': 2604, 'poets': 2605, 'classifying': 2606, 'dozing': 2607, 'crutches': 2608, 'kept': 2609, 'didn': 2610, 'connected': 2611, 'paintings': 2612, 'planting': 2613, 'roses': 2614, 'financial': 2615, 'sunbathing': 2616, 'inconvenience': 2617, 'ours': 2618, 'difficult': 2619, 'smoke': 2620, 'recovery': 2621, 'millionth': 2622, 'anticipating': 2623, 'circulation': 2624, 'memory': 2625, 'technique': 2626, 'pat': 2627, 'stir': 2628, 'mayan': 2629, 'prophecies': 2630, 'gets': 2631, 'oxford': 2632, 'accustoming': 2633, 'style': 2634, 'foreign': 2635, 'invitation': 2636, 'history': 2637, 'affair': 2638, 'protection': 2639, 'internal': 2640, 'korea': 2641, 'mobile': 2642, 'worked': 2643, 'identification': 2644, 'decisions': 2645, 'personal': 2646, 'belongings': 2647, 'faced': 2648, 'lousy': 2649, 'direction': 2650, 'finding': 2651, 'fault': 2652, 'oranges': 2653, 'latin': 2654, 'humanities': 2655, 'culture': 2656, 'preparations': 2657, 'advocate': 2658, 'barefoot': 2659, 'adding': 2660, 'touches': 2661, 'months': 2662, 'discounting': 2663, 'relationship': 2664, 'bathing': 2665, 'suit': 2666, 'scheduled': 2667, 'strongly': 2668, 'opposed': 2669, 'compromise': 2670, 'economics': 2671, 'endowed': 2672, 'talent': 2673, 'misconduct': 2674, 'necklace': 2675, 'since': 2676, 'wednesday': 2677, 'collecting': 2678, 'material': 2679, 'breadwinner': 2680, 'estimate': 2681, 'choice': 2682, 'host': 2683, 'influenced': 2684, 'environment': 2685, 'laws': 2686, 'search': 2687, 'whole': 2688, 'choices': 2689, 'cut': 2690, 'expenses': 2691, 'planted': 2692, 'leeds': 2693, 'confronted': 2694, 'valuing': 2695, 'antiques': 2696, 'holding': 2697, 'arm': 2698, 'launch': 2699, 'literature': 2700, 'biology': 2701, 'leading': 2702, 'impressionable': 2703, 'till': 2704, 'stories': 2705, 'acted': 2706, 'foolishly': 2707, 'bjork': 2708, 'latest': 2709, 'ordering': 2710, 'immediately': 2711, 'studies': 2712, 'compliments': 2713, 'astronomy': 2714, 'hoping': 2715, 'overfishing': 2716, 'oceans': 2717, 'parish': 2718, 'generally': 2719, 'develop': 2720, 'sales': 2721, 'spitting': 2722, 'financially': 2723, 'swedish': 2724, 'kindness': 2725, 'orchestra': 2726, 'ear': 2727, 'disease': 2728, 'attending': 2729, 'web': 2730, 'design': 2731, 'holidays': 2732, 'yourselves': 2733, 'mountains': 2734, 'measuring': 2735, 'depth': 2736, 'interest': 2737, 'hand': 2738, 'advantage': 2739, 'weakness': 2740, 'diplomat': 2741, 'embassy': 2742, 'irritating': 2743, 'election': 2744, 'recovering': 2745, 'appointments': 2746, 'motorcycle': 2747, 'receding': 2748, 'hairline': 2749, 'parasol': 2750, 'considered': 2751, 'classical': 2752, 'acquaintance': 2753, 'exceedingly': 2754, 'expressing': 2755, 'hugging': 2756, 'encouraged': 2757, 'imagination': 2758, 'harvest': 2759, 'hospitality': 2760, 'whatever': 2761, 'thoughts': 2762, 'particularily': 2763, 'chiseling': 2764, 'statue': 2765, 'marble': 2766, 'matters': 2767, 'which': 2768, 'discuss': 2769, 'countries': 2770, 'conversation': 2771, 'express': 2772, 'dissatisfaction': 2773, 'economically': 2774, 'spokesperson': 2775, 'organization': 2776, 'recognized': 2777, 'irresponsible': 2778, 'attitude': 2779, 'savings': 2780, 'account': 2781, 'receiving': 2782, 'reply': 2783, 'narita': 2784, 'grappling': 2785, 'beliefs': 2786, 'interpreter': 2787, 'international': 2788, 'behave': 2789, 'publication': 2790, 'critical': 2791, 'shortcomings': 2792, 'susceptible': 2793, 'hypnotic': 2794, 'jackson': 2795, 'experiments': 2796, 'laboratory': 2797, 'compiling': 2798, 'software': 2799, 'contributions': 2800, 'presidential': 2801, 'candidates': 2802}\n",
      "10599\n",
      "['je suis une actrice pas un mannequin .', 'i m an actress not a model .']\n"
     ]
    }
   ],
   "source": [
    "print(input_lang.n_words)\n",
    "print(output_lang.word2index)\n",
    "print(len(pairs))\n",
    "print(random.choice(pairs))\n"
   ]
  },
  {
   "cell_type": "markdown",
   "metadata": {},
   "source": [
    "The Seq2Seq Model\n",
    "=================\n",
    "\n",
    "A Recurrent Neural Network, or RNN, is a network that operates on a\n",
    "sequence and uses its own output as input for subsequent steps.\n",
    "\n",
    "A `Sequence to Sequence network <https://arxiv.org/abs/1409.3215>`__, or\n",
    "seq2seq network, or `Encoder Decoder\n",
    "network <https://arxiv.org/pdf/1406.1078v3.pdf>`__, is a model\n",
    "consisting of two RNNs called the encoder and decoder. The encoder reads\n",
    "an input sequence and outputs a single vector, and the decoder reads\n",
    "that vector to produce an output sequence.\n",
    "\n",
    ".. figure:: /_static/img/seq-seq-images/seq2seq.png\n",
    "   :alt:\n",
    "\n",
    "Unlike sequence prediction with a single RNN, where every input\n",
    "corresponds to an output, the seq2seq model frees us from sequence\n",
    "length and order, which makes it ideal for translation between two\n",
    "languages.\n",
    "\n",
    "Consider the sentence \"Je ne suis pas le chat noir\" → \"I am not the\n",
    "black cat\". Most of the words in the input sentence have a direct\n",
    "translation in the output sentence, but are in slightly different\n",
    "orders, e.g. \"chat noir\" and \"black cat\". Because of the \"ne/pas\"\n",
    "construction there is also one more word in the input sentence. It would\n",
    "be difficult to produce a correct translation directly from the sequence\n",
    "of input words.\n",
    "\n",
    "With a seq2seq model the encoder creates a single vector which, in the\n",
    "ideal case, encodes the \"meaning\" of the input sequence into a single\n",
    "vector — a single point in some N dimensional space of sentences.\n",
    "\n",
    "\n"
   ]
  },
  {
   "cell_type": "markdown",
   "metadata": {},
   "source": [
    "The Encoder\n",
    "-----------\n",
    "\n",
    "The encoder of a seq2seq network is a RNN that outputs some value for\n",
    "every word from the input sentence. For every input word the encoder\n",
    "outputs a vector and a hidden state, and uses the hidden state for the\n",
    "next input word.\n",
    "\n",
    ".. figure:: /_static/img/seq-seq-images/encoder-network.png\n",
    "   :alt:\n",
    "\n",
    "\n",
    "\n"
   ]
  },
  {
   "cell_type": "code",
   "execution_count": 71,
   "metadata": {},
   "outputs": [],
   "source": [
    "class EncoderRNN(nn.Module):\n",
    "    def __init__(self, input_size, hidden_size):\n",
    "        super(EncoderRNN, self).__init__()\n",
    "        self.hidden_size = hidden_size\n",
    "\n",
    "        self.embedding = nn.Embedding(input_size, hidden_size)\n",
    "        print(\"input_size\",input_size)\n",
    "        print(\"hidden_size\",hidden_size)\n",
    "        self.gru = nn.GRU(hidden_size, hidden_size)\n",
    "\n",
    "    def forward(self, input, hidden):\n",
    "        print(input.flatten().shape)\n",
    "        embedded = self.embedding(input.flatten()).view(1, 1, -1)\n",
    "        output = embedded\n",
    "        print(output.shape)\n",
    "        output, hidden = self.gru(output, hidden)\n",
    "        return output, hidden\n",
    "\n",
    "    def initHidden(self):\n",
    "        return torch.zeros(1, 1, self.hidden_size, device=device)"
   ]
  },
  {
   "cell_type": "code",
   "execution_count": 72,
   "metadata": {},
   "outputs": [
    {
     "name": "stdout",
     "output_type": "stream",
     "text": [
      "test_sample ['je suis entre deux postes .', 'i m between jobs .']\n",
      "tensor([[   6],\n",
      "        [  11],\n",
      "        [ 954],\n",
      "        [1237],\n",
      "        [1418],\n",
      "        [   5],\n",
      "        [   1]]) test_input_tensor shape:  torch.Size([7, 1])\n",
      "tensor([[  2],\n",
      "        [  3],\n",
      "        [767],\n",
      "        [768],\n",
      "        [  4],\n",
      "        [  1]]) test_target_tensor shape:  torch.Size([6, 1])\n"
     ]
    }
   ],
   "source": [
    "test_sample = random.choice(pairs)\n",
    "print(\"test_sample\",test_sample)\n",
    "test_input_tensor = tensorFromSentence(input_lang, test_sample[0])\n",
    "test_target_tensor = tensorFromSentence(output_lang, test_sample[1])\n",
    "print(test_input_tensor,\"test_input_tensor shape: \",test_input_tensor.shape)\n",
    "print(test_target_tensor,\"test_target_tensor shape: \",test_target_tensor.shape)\n"
   ]
  },
  {
   "cell_type": "code",
   "execution_count": 74,
   "metadata": {},
   "outputs": [
    {
     "name": "stdout",
     "output_type": "stream",
     "text": [
      "input_size 7\n",
      "hidden_size 128\n",
      "EncoderRNN(\n",
      "  (embedding): Embedding(7, 128)\n",
      "  (gru): GRU(128, 128)\n",
      ")\n",
      "torch.Size([7])\n"
     ]
    },
    {
     "ename": "IndexError",
     "evalue": "index out of range in self",
     "output_type": "error",
     "traceback": [
      "\u001b[1;31m---------------------------------------------------------------------------\u001b[0m",
      "\u001b[1;31mIndexError\u001b[0m                                Traceback (most recent call last)",
      "\u001b[1;32m~\\AppData\\Local\\Temp/ipykernel_15944/2666349056.py\u001b[0m in \u001b[0;36m<module>\u001b[1;34m\u001b[0m\n\u001b[0;32m      2\u001b[0m \u001b[0mmodel\u001b[0m\u001b[1;33m.\u001b[0m\u001b[0minitHidden\u001b[0m\u001b[1;33m(\u001b[0m\u001b[1;33m)\u001b[0m\u001b[1;33m\u001b[0m\u001b[1;33m\u001b[0m\u001b[0m\n\u001b[0;32m      3\u001b[0m \u001b[0mprint\u001b[0m\u001b[1;33m(\u001b[0m\u001b[0mmodel\u001b[0m\u001b[1;33m)\u001b[0m\u001b[1;33m\u001b[0m\u001b[1;33m\u001b[0m\u001b[0m\n\u001b[1;32m----> 4\u001b[1;33m \u001b[0moutput\u001b[0m\u001b[1;33m,\u001b[0m \u001b[0mhidden\u001b[0m \u001b[1;33m=\u001b[0m \u001b[0mmodel\u001b[0m\u001b[1;33m(\u001b[0m\u001b[0mtest_input_tensor\u001b[0m\u001b[1;33m.\u001b[0m\u001b[0mflatten\u001b[0m\u001b[1;33m(\u001b[0m\u001b[1;33m)\u001b[0m\u001b[1;33m,\u001b[0m\u001b[1;36m128\u001b[0m\u001b[1;33m)\u001b[0m\u001b[1;33m\u001b[0m\u001b[1;33m\u001b[0m\u001b[0m\n\u001b[0m\u001b[0;32m      5\u001b[0m \u001b[0mprint\u001b[0m\u001b[1;33m(\u001b[0m\u001b[0moutput\u001b[0m\u001b[1;33m)\u001b[0m\u001b[1;33m\u001b[0m\u001b[1;33m\u001b[0m\u001b[0m\n\u001b[0;32m      6\u001b[0m \u001b[0mprint\u001b[0m\u001b[1;33m(\u001b[0m\u001b[0mhidden\u001b[0m\u001b[1;33m)\u001b[0m\u001b[1;33m\u001b[0m\u001b[1;33m\u001b[0m\u001b[0m\n",
      "\u001b[1;32mC:\\ProgramData\\Miniconda3\\lib\\site-packages\\torch\\nn\\modules\\module.py\u001b[0m in \u001b[0;36m_call_impl\u001b[1;34m(self, *input, **kwargs)\u001b[0m\n\u001b[0;32m   1100\u001b[0m         if not (self._backward_hooks or self._forward_hooks or self._forward_pre_hooks or _global_backward_hooks\n\u001b[0;32m   1101\u001b[0m                 or _global_forward_hooks or _global_forward_pre_hooks):\n\u001b[1;32m-> 1102\u001b[1;33m             \u001b[1;32mreturn\u001b[0m \u001b[0mforward_call\u001b[0m\u001b[1;33m(\u001b[0m\u001b[1;33m*\u001b[0m\u001b[0minput\u001b[0m\u001b[1;33m,\u001b[0m \u001b[1;33m**\u001b[0m\u001b[0mkwargs\u001b[0m\u001b[1;33m)\u001b[0m\u001b[1;33m\u001b[0m\u001b[1;33m\u001b[0m\u001b[0m\n\u001b[0m\u001b[0;32m   1103\u001b[0m         \u001b[1;31m# Do not call functions when jit is used\u001b[0m\u001b[1;33m\u001b[0m\u001b[1;33m\u001b[0m\u001b[1;33m\u001b[0m\u001b[0m\n\u001b[0;32m   1104\u001b[0m         \u001b[0mfull_backward_hooks\u001b[0m\u001b[1;33m,\u001b[0m \u001b[0mnon_full_backward_hooks\u001b[0m \u001b[1;33m=\u001b[0m \u001b[1;33m[\u001b[0m\u001b[1;33m]\u001b[0m\u001b[1;33m,\u001b[0m \u001b[1;33m[\u001b[0m\u001b[1;33m]\u001b[0m\u001b[1;33m\u001b[0m\u001b[1;33m\u001b[0m\u001b[0m\n",
      "\u001b[1;32m~\\AppData\\Local\\Temp/ipykernel_15944/3814328950.py\u001b[0m in \u001b[0;36mforward\u001b[1;34m(self, input, hidden)\u001b[0m\n\u001b[0;32m     11\u001b[0m     \u001b[1;32mdef\u001b[0m \u001b[0mforward\u001b[0m\u001b[1;33m(\u001b[0m\u001b[0mself\u001b[0m\u001b[1;33m,\u001b[0m \u001b[0minput\u001b[0m\u001b[1;33m,\u001b[0m \u001b[0mhidden\u001b[0m\u001b[1;33m)\u001b[0m\u001b[1;33m:\u001b[0m\u001b[1;33m\u001b[0m\u001b[1;33m\u001b[0m\u001b[0m\n\u001b[0;32m     12\u001b[0m         \u001b[0mprint\u001b[0m\u001b[1;33m(\u001b[0m\u001b[0minput\u001b[0m\u001b[1;33m.\u001b[0m\u001b[0mflatten\u001b[0m\u001b[1;33m(\u001b[0m\u001b[1;33m)\u001b[0m\u001b[1;33m.\u001b[0m\u001b[0mshape\u001b[0m\u001b[1;33m)\u001b[0m\u001b[1;33m\u001b[0m\u001b[1;33m\u001b[0m\u001b[0m\n\u001b[1;32m---> 13\u001b[1;33m         \u001b[0membedded\u001b[0m \u001b[1;33m=\u001b[0m \u001b[0mself\u001b[0m\u001b[1;33m.\u001b[0m\u001b[0membedding\u001b[0m\u001b[1;33m(\u001b[0m\u001b[0minput\u001b[0m\u001b[1;33m.\u001b[0m\u001b[0mflatten\u001b[0m\u001b[1;33m(\u001b[0m\u001b[1;33m)\u001b[0m\u001b[1;33m)\u001b[0m\u001b[1;33m.\u001b[0m\u001b[0mview\u001b[0m\u001b[1;33m(\u001b[0m\u001b[1;36m1\u001b[0m\u001b[1;33m,\u001b[0m \u001b[1;36m1\u001b[0m\u001b[1;33m,\u001b[0m \u001b[1;33m-\u001b[0m\u001b[1;36m1\u001b[0m\u001b[1;33m)\u001b[0m\u001b[1;33m\u001b[0m\u001b[1;33m\u001b[0m\u001b[0m\n\u001b[0m\u001b[0;32m     14\u001b[0m         \u001b[0moutput\u001b[0m \u001b[1;33m=\u001b[0m \u001b[0membedded\u001b[0m\u001b[1;33m\u001b[0m\u001b[1;33m\u001b[0m\u001b[0m\n\u001b[0;32m     15\u001b[0m         \u001b[0mprint\u001b[0m\u001b[1;33m(\u001b[0m\u001b[0moutput\u001b[0m\u001b[1;33m.\u001b[0m\u001b[0mshape\u001b[0m\u001b[1;33m)\u001b[0m\u001b[1;33m\u001b[0m\u001b[1;33m\u001b[0m\u001b[0m\n",
      "\u001b[1;32mC:\\ProgramData\\Miniconda3\\lib\\site-packages\\torch\\nn\\modules\\module.py\u001b[0m in \u001b[0;36m_call_impl\u001b[1;34m(self, *input, **kwargs)\u001b[0m\n\u001b[0;32m   1100\u001b[0m         if not (self._backward_hooks or self._forward_hooks or self._forward_pre_hooks or _global_backward_hooks\n\u001b[0;32m   1101\u001b[0m                 or _global_forward_hooks or _global_forward_pre_hooks):\n\u001b[1;32m-> 1102\u001b[1;33m             \u001b[1;32mreturn\u001b[0m \u001b[0mforward_call\u001b[0m\u001b[1;33m(\u001b[0m\u001b[1;33m*\u001b[0m\u001b[0minput\u001b[0m\u001b[1;33m,\u001b[0m \u001b[1;33m**\u001b[0m\u001b[0mkwargs\u001b[0m\u001b[1;33m)\u001b[0m\u001b[1;33m\u001b[0m\u001b[1;33m\u001b[0m\u001b[0m\n\u001b[0m\u001b[0;32m   1103\u001b[0m         \u001b[1;31m# Do not call functions when jit is used\u001b[0m\u001b[1;33m\u001b[0m\u001b[1;33m\u001b[0m\u001b[1;33m\u001b[0m\u001b[0m\n\u001b[0;32m   1104\u001b[0m         \u001b[0mfull_backward_hooks\u001b[0m\u001b[1;33m,\u001b[0m \u001b[0mnon_full_backward_hooks\u001b[0m \u001b[1;33m=\u001b[0m \u001b[1;33m[\u001b[0m\u001b[1;33m]\u001b[0m\u001b[1;33m,\u001b[0m \u001b[1;33m[\u001b[0m\u001b[1;33m]\u001b[0m\u001b[1;33m\u001b[0m\u001b[1;33m\u001b[0m\u001b[0m\n",
      "\u001b[1;32mC:\\ProgramData\\Miniconda3\\lib\\site-packages\\torch\\nn\\modules\\sparse.py\u001b[0m in \u001b[0;36mforward\u001b[1;34m(self, input)\u001b[0m\n\u001b[0;32m    158\u001b[0m         return F.embedding(\n\u001b[0;32m    159\u001b[0m             \u001b[0minput\u001b[0m\u001b[1;33m,\u001b[0m \u001b[0mself\u001b[0m\u001b[1;33m.\u001b[0m\u001b[0mweight\u001b[0m\u001b[1;33m,\u001b[0m \u001b[0mself\u001b[0m\u001b[1;33m.\u001b[0m\u001b[0mpadding_idx\u001b[0m\u001b[1;33m,\u001b[0m \u001b[0mself\u001b[0m\u001b[1;33m.\u001b[0m\u001b[0mmax_norm\u001b[0m\u001b[1;33m,\u001b[0m\u001b[1;33m\u001b[0m\u001b[1;33m\u001b[0m\u001b[0m\n\u001b[1;32m--> 160\u001b[1;33m             self.norm_type, self.scale_grad_by_freq, self.sparse)\n\u001b[0m\u001b[0;32m    161\u001b[0m \u001b[1;33m\u001b[0m\u001b[0m\n\u001b[0;32m    162\u001b[0m     \u001b[1;32mdef\u001b[0m \u001b[0mextra_repr\u001b[0m\u001b[1;33m(\u001b[0m\u001b[0mself\u001b[0m\u001b[1;33m)\u001b[0m \u001b[1;33m->\u001b[0m \u001b[0mstr\u001b[0m\u001b[1;33m:\u001b[0m\u001b[1;33m\u001b[0m\u001b[1;33m\u001b[0m\u001b[0m\n",
      "\u001b[1;32mC:\\ProgramData\\Miniconda3\\lib\\site-packages\\torch\\nn\\functional.py\u001b[0m in \u001b[0;36membedding\u001b[1;34m(input, weight, padding_idx, max_norm, norm_type, scale_grad_by_freq, sparse)\u001b[0m\n\u001b[0;32m   2042\u001b[0m         \u001b[1;31m# remove once script supports set_grad_enabled\u001b[0m\u001b[1;33m\u001b[0m\u001b[1;33m\u001b[0m\u001b[1;33m\u001b[0m\u001b[0m\n\u001b[0;32m   2043\u001b[0m         \u001b[0m_no_grad_embedding_renorm_\u001b[0m\u001b[1;33m(\u001b[0m\u001b[0mweight\u001b[0m\u001b[1;33m,\u001b[0m \u001b[0minput\u001b[0m\u001b[1;33m,\u001b[0m \u001b[0mmax_norm\u001b[0m\u001b[1;33m,\u001b[0m \u001b[0mnorm_type\u001b[0m\u001b[1;33m)\u001b[0m\u001b[1;33m\u001b[0m\u001b[1;33m\u001b[0m\u001b[0m\n\u001b[1;32m-> 2044\u001b[1;33m     \u001b[1;32mreturn\u001b[0m \u001b[0mtorch\u001b[0m\u001b[1;33m.\u001b[0m\u001b[0membedding\u001b[0m\u001b[1;33m(\u001b[0m\u001b[0mweight\u001b[0m\u001b[1;33m,\u001b[0m \u001b[0minput\u001b[0m\u001b[1;33m,\u001b[0m \u001b[0mpadding_idx\u001b[0m\u001b[1;33m,\u001b[0m \u001b[0mscale_grad_by_freq\u001b[0m\u001b[1;33m,\u001b[0m \u001b[0msparse\u001b[0m\u001b[1;33m)\u001b[0m\u001b[1;33m\u001b[0m\u001b[1;33m\u001b[0m\u001b[0m\n\u001b[0m\u001b[0;32m   2045\u001b[0m \u001b[1;33m\u001b[0m\u001b[0m\n\u001b[0;32m   2046\u001b[0m \u001b[1;33m\u001b[0m\u001b[0m\n",
      "\u001b[1;31mIndexError\u001b[0m: index out of range in self"
     ]
    }
   ],
   "source": [
    "model = EncoderRNN(test_input_tensor.shape[0],128)\n",
    "model.initHidden()\n",
    "print(model)\n",
    "output, hidden = model(test_input_tensor.flatten(),128)\n",
    "print(output)\n",
    "print(hidden)"
   ]
  },
  {
   "cell_type": "markdown",
   "metadata": {},
   "source": [
    "The Decoder\n",
    "-----------\n",
    "\n",
    "The decoder is another RNN that takes the encoder output vector(s) and\n",
    "outputs a sequence of words to create the translation.\n",
    "\n",
    "\n"
   ]
  },
  {
   "cell_type": "markdown",
   "metadata": {},
   "source": [
    "Simple Decoder\n",
    "^^^^^^^^^^^^^^\n",
    "\n",
    "In the simplest seq2seq decoder we use only last output of the encoder.\n",
    "This last output is sometimes called the *context vector* as it encodes\n",
    "context from the entire sequence. This context vector is used as the\n",
    "initial hidden state of the decoder.\n",
    "\n",
    "At every step of decoding, the decoder is given an input token and\n",
    "hidden state. The initial input token is the start-of-string ``<SOS>``\n",
    "token, and the first hidden state is the context vector (the encoder's\n",
    "last hidden state).\n",
    "\n",
    ".. figure:: /_static/img/seq-seq-images/decoder-network.png\n",
    "   :alt:\n",
    "\n",
    "\n",
    "\n"
   ]
  },
  {
   "cell_type": "code",
   "execution_count": null,
   "metadata": {},
   "outputs": [],
   "source": [
    "class DecoderRNN(nn.Module):\n",
    "    def __init__(self, hidden_size, output_size):\n",
    "        super(DecoderRNN, self).__init__()\n",
    "        self.hidden_size = hidden_size\n",
    "\n",
    "        self.embedding = nn.Embedding(output_size, hidden_size)\n",
    "        self.gru = nn.GRU(hidden_size, hidden_size)\n",
    "        self.out = nn.Linear(hidden_size, output_size)\n",
    "        self.softmax = nn.LogSoftmax(dim=1)\n",
    "\n",
    "    def forward(self, input, hidden):\n",
    "        output = self.embedding(input).view(1, 1, -1)\n",
    "        output = F.relu(output)\n",
    "        output, hidden = self.gru(output, hidden)\n",
    "        output = self.softmax(self.out(output[0]))\n",
    "        return output, hidden\n",
    "\n",
    "    def initHidden(self):\n",
    "        return torch.zeros(1, 1, self.hidden_size, device=device)"
   ]
  },
  {
   "cell_type": "markdown",
   "metadata": {},
   "source": [
    "I encourage you to train and observe the results of this model, but to\n",
    "save space we'll be going straight for the gold and introducing the\n",
    "Attention Mechanism.\n",
    "\n",
    "\n"
   ]
  },
  {
   "cell_type": "markdown",
   "metadata": {},
   "source": [
    "Attention Decoder\n",
    "^^^^^^^^^^^^^^^^^\n",
    "\n",
    "If only the context vector is passed between the encoder and decoder,\n",
    "that single vector carries the burden of encoding the entire sentence.\n",
    "\n",
    "Attention allows the decoder network to \"focus\" on a different part of\n",
    "the encoder's outputs for every step of the decoder's own outputs. First\n",
    "we calculate a set of *attention weights*. These will be multiplied by\n",
    "the encoder output vectors to create a weighted combination. The result\n",
    "(called ``attn_applied`` in the code) should contain information about\n",
    "that specific part of the input sequence, and thus help the decoder\n",
    "choose the right output words.\n",
    "\n",
    ".. figure:: https://i.imgur.com/1152PYf.png\n",
    "   :alt:\n",
    "\n",
    "Calculating the attention weights is done with another feed-forward\n",
    "layer ``attn``, using the decoder's input and hidden state as inputs.\n",
    "Because there are sentences of all sizes in the training data, to\n",
    "actually create and train this layer we have to choose a maximum\n",
    "sentence length (input length, for encoder outputs) that it can apply\n",
    "to. Sentences of the maximum length will use all the attention weights,\n",
    "while shorter sentences will only use the first few.\n",
    "\n",
    ".. figure:: /_static/img/seq-seq-images/attention-decoder-network.png\n",
    "   :alt:\n",
    "\n",
    "\n",
    "\n"
   ]
  },
  {
   "cell_type": "code",
   "execution_count": null,
   "metadata": {},
   "outputs": [],
   "source": [
    "class AttnDecoderRNN(nn.Module):\n",
    "    def __init__(self, hidden_size, output_size, dropout_p=0.1, max_length=MAX_LENGTH):\n",
    "        super(AttnDecoderRNN, self).__init__()\n",
    "        self.hidden_size = hidden_size\n",
    "        self.output_size = output_size\n",
    "        self.dropout_p = dropout_p\n",
    "        self.max_length = max_length\n",
    "\n",
    "        self.embedding = nn.Embedding(self.output_size, self.hidden_size)\n",
    "        self.attn = nn.Linear(self.hidden_size * 2, self.max_length)\n",
    "        self.attn_combine = nn.Linear(self.hidden_size * 2, self.hidden_size)\n",
    "        self.dropout = nn.Dropout(self.dropout_p)\n",
    "        self.gru = nn.GRU(self.hidden_size, self.hidden_size)\n",
    "        self.out = nn.Linear(self.hidden_size, self.output_size)\n",
    "\n",
    "    def forward(self, input, hidden, encoder_outputs):\n",
    "        embedded = self.embedding(input).view(1, 1, -1)\n",
    "        embedded = self.dropout(embedded)\n",
    "\n",
    "        attn_weights = F.softmax(\n",
    "            self.attn(torch.cat((embedded[0], hidden[0]), 1)), dim=1)\n",
    "        attn_applied = torch.bmm(attn_weights.unsqueeze(0),\n",
    "                                 encoder_outputs.unsqueeze(0))\n",
    "\n",
    "        output = torch.cat((embedded[0], attn_applied[0]), 1)\n",
    "        output = self.attn_combine(output).unsqueeze(0)\n",
    "\n",
    "        output = F.relu(output)\n",
    "        output, hidden = self.gru(output, hidden)\n",
    "\n",
    "        output = F.log_softmax(self.out(output[0]), dim=1)\n",
    "        return output, hidden, attn_weights\n",
    "\n",
    "    def initHidden(self):\n",
    "        return torch.zeros(1, 1, self.hidden_size, device=device)"
   ]
  },
  {
   "cell_type": "markdown",
   "metadata": {},
   "source": [
    "<div class=\"alert alert-info\"><h4>Note</h4><p>There are other forms of attention that work around the length\n",
    "  limitation by using a relative position approach. Read about \"local\n",
    "  attention\" in `Effective Approaches to Attention-based Neural Machine\n",
    "  Translation <https://arxiv.org/abs/1508.04025>`__.</p></div>\n",
    "\n",
    "Training\n",
    "========\n",
    "\n",
    "Preparing Training Data\n",
    "-----------------------\n",
    "\n",
    "To train, for each pair we will need an input tensor (indexes of the\n",
    "words in the input sentence) and target tensor (indexes of the words in\n",
    "the target sentence). While creating these vectors we will append the\n",
    "EOS token to both sequences.\n",
    "\n",
    "\n"
   ]
  },
  {
   "cell_type": "code",
   "execution_count": 29,
   "metadata": {},
   "outputs": [],
   "source": [
    "def indexesFromSentence(lang, sentence):\n",
    "    return [lang.word2index[word] for word in sentence.split(' ')]\n",
    "\n",
    "\n",
    "def tensorFromSentence(lang, sentence):\n",
    "    indexes = indexesFromSentence(lang, sentence)\n",
    "    indexes.append(EOS_token)\n",
    "    return torch.tensor(indexes, dtype=torch.long, device=device).view(-1, 1)\n",
    "\n",
    "\n",
    "def tensorsFromPair(pair):\n",
    "    input_tensor = tensorFromSentence(input_lang, pair[0])\n",
    "    target_tensor = tensorFromSentence(output_lang, pair[1])\n",
    "    return (input_tensor, target_tensor)"
   ]
  },
  {
   "cell_type": "markdown",
   "metadata": {},
   "source": [
    "Training the Model\n",
    "------------------\n",
    "\n",
    "To train we run the input sentence through the encoder, and keep track\n",
    "of every output and the latest hidden state. Then the decoder is given\n",
    "the ``<SOS>`` token as its first input, and the last hidden state of the\n",
    "encoder as its first hidden state.\n",
    "\n",
    "\"Teacher forcing\" is the concept of using the real target outputs as\n",
    "each next input, instead of using the decoder's guess as the next input.\n",
    "Using teacher forcing causes it to converge faster but `when the trained\n",
    "network is exploited, it may exhibit\n",
    "instability <http://citeseerx.ist.psu.edu/viewdoc/download?doi=10.1.1.378.4095&rep=rep1&type=pdf>`__.\n",
    "\n",
    "You can observe outputs of teacher-forced networks that read with\n",
    "coherent grammar but wander far from the correct translation -\n",
    "intuitively it has learned to represent the output grammar and can \"pick\n",
    "up\" the meaning once the teacher tells it the first few words, but it\n",
    "has not properly learned how to create the sentence from the translation\n",
    "in the first place.\n",
    "\n",
    "Because of the freedom PyTorch's autograd gives us, we can randomly\n",
    "choose to use teacher forcing or not with a simple if statement. Turn\n",
    "``teacher_forcing_ratio`` up to use more of it.\n",
    "\n",
    "\n"
   ]
  },
  {
   "cell_type": "code",
   "execution_count": null,
   "metadata": {},
   "outputs": [],
   "source": [
    "teacher_forcing_ratio = 0.5\n",
    "\n",
    "\n",
    "def train(input_tensor, target_tensor, encoder, decoder, encoder_optimizer, decoder_optimizer, criterion, max_length=MAX_LENGTH):\n",
    "    encoder_hidden = encoder.initHidden()\n",
    "\n",
    "    encoder_optimizer.zero_grad()\n",
    "    decoder_optimizer.zero_grad()\n",
    "\n",
    "    input_length = input_tensor.size(0)\n",
    "    target_length = target_tensor.size(0)\n",
    "\n",
    "    encoder_outputs = torch.zeros(max_length, encoder.hidden_size, device=device)\n",
    "\n",
    "    loss = 0\n",
    "\n",
    "    for ei in range(input_length):\n",
    "        encoder_output, encoder_hidden = encoder(\n",
    "            input_tensor[ei], encoder_hidden)\n",
    "        encoder_outputs[ei] = encoder_output[0, 0]\n",
    "\n",
    "    decoder_input = torch.tensor([[SOS_token]], device=device)\n",
    "\n",
    "    decoder_hidden = encoder_hidden\n",
    "\n",
    "    use_teacher_forcing = True if random.random() < teacher_forcing_ratio else False\n",
    "\n",
    "    if use_teacher_forcing:\n",
    "        # Teacher forcing: Feed the target as the next input\n",
    "        for di in range(target_length):\n",
    "            decoder_output, decoder_hidden, decoder_attention = decoder(\n",
    "                decoder_input, decoder_hidden, encoder_outputs)\n",
    "            loss += criterion(decoder_output, target_tensor[di])\n",
    "            decoder_input = target_tensor[di]  # Teacher forcing\n",
    "\n",
    "    else:\n",
    "        # Without teacher forcing: use its own predictions as the next input\n",
    "        for di in range(target_length):\n",
    "            decoder_output, decoder_hidden, decoder_attention = decoder(\n",
    "                decoder_input, decoder_hidden, encoder_outputs)\n",
    "            topv, topi = decoder_output.topk(1)\n",
    "            decoder_input = topi.squeeze().detach()  # detach from history as input\n",
    "\n",
    "            loss += criterion(decoder_output, target_tensor[di])\n",
    "            if decoder_input.item() == EOS_token:\n",
    "                break\n",
    "\n",
    "    loss.backward()\n",
    "\n",
    "    encoder_optimizer.step()\n",
    "    decoder_optimizer.step()\n",
    "\n",
    "    return loss.item() / target_length"
   ]
  },
  {
   "cell_type": "markdown",
   "metadata": {},
   "source": [
    "This is a helper function to print time elapsed and estimated time\n",
    "remaining given the current time and progress %.\n",
    "\n",
    "\n"
   ]
  },
  {
   "cell_type": "code",
   "execution_count": null,
   "metadata": {},
   "outputs": [],
   "source": [
    "import time\n",
    "import math\n",
    "\n",
    "\n",
    "def asMinutes(s):\n",
    "    m = math.floor(s / 60)\n",
    "    s -= m * 60\n",
    "    return '%dm %ds' % (m, s)\n",
    "\n",
    "\n",
    "def timeSince(since, percent):\n",
    "    now = time.time()\n",
    "    s = now - since\n",
    "    es = s / (percent)\n",
    "    rs = es - s\n",
    "    return '%s (- %s)' % (asMinutes(s), asMinutes(rs))"
   ]
  },
  {
   "cell_type": "markdown",
   "metadata": {},
   "source": [
    "The whole training process looks like this:\n",
    "\n",
    "-  Start a timer\n",
    "-  Initialize optimizers and criterion\n",
    "-  Create set of training pairs\n",
    "-  Start empty losses array for plotting\n",
    "\n",
    "Then we call ``train`` many times and occasionally print the progress (%\n",
    "of examples, time so far, estimated time) and average loss.\n",
    "\n",
    "\n"
   ]
  },
  {
   "cell_type": "code",
   "execution_count": null,
   "metadata": {},
   "outputs": [],
   "source": [
    "def trainIters(encoder, decoder, n_iters, print_every=1000, plot_every=100, learning_rate=0.01):\n",
    "    start = time.time()\n",
    "    plot_losses = []\n",
    "    print_loss_total = 0  # Reset every print_every\n",
    "    plot_loss_total = 0  # Reset every plot_every\n",
    "\n",
    "    encoder_optimizer = optim.SGD(encoder.parameters(), lr=learning_rate)\n",
    "    decoder_optimizer = optim.SGD(decoder.parameters(), lr=learning_rate)\n",
    "    training_pairs = [tensorsFromPair(random.choice(pairs))\n",
    "                      for i in range(n_iters)]\n",
    "    criterion = nn.NLLLoss()\n",
    "\n",
    "    for iter in range(1, n_iters + 1):\n",
    "        training_pair = training_pairs[iter - 1]\n",
    "        input_tensor = training_pair[0]\n",
    "        target_tensor = training_pair[1]\n",
    "\n",
    "        loss = train(input_tensor, target_tensor, encoder,\n",
    "                     decoder, encoder_optimizer, decoder_optimizer, criterion)\n",
    "        print_loss_total += loss\n",
    "        plot_loss_total += loss\n",
    "\n",
    "        if iter % print_every == 0:\n",
    "            print_loss_avg = print_loss_total / print_every\n",
    "            print_loss_total = 0\n",
    "            print('%s (%d %d%%) %.4f' % (timeSince(start, iter / n_iters),\n",
    "                                         iter, iter / n_iters * 100, print_loss_avg))\n",
    "\n",
    "        if iter % plot_every == 0:\n",
    "            plot_loss_avg = plot_loss_total / plot_every\n",
    "            plot_losses.append(plot_loss_avg)\n",
    "            plot_loss_total = 0\n",
    "\n",
    "    showPlot(plot_losses)"
   ]
  },
  {
   "cell_type": "markdown",
   "metadata": {},
   "source": [
    "Plotting results\n",
    "----------------\n",
    "\n",
    "Plotting is done with matplotlib, using the array of loss values\n",
    "``plot_losses`` saved while training.\n",
    "\n",
    "\n"
   ]
  },
  {
   "cell_type": "code",
   "execution_count": null,
   "metadata": {},
   "outputs": [],
   "source": [
    "import matplotlib.pyplot as plt\n",
    "plt.switch_backend('agg')\n",
    "import matplotlib.ticker as ticker\n",
    "import numpy as np\n",
    "\n",
    "\n",
    "def showPlot(points):\n",
    "    plt.figure()\n",
    "    fig, ax = plt.subplots()\n",
    "    # this locator puts ticks at regular intervals\n",
    "    loc = ticker.MultipleLocator(base=0.2)\n",
    "    ax.yaxis.set_major_locator(loc)\n",
    "    plt.plot(points)"
   ]
  },
  {
   "cell_type": "markdown",
   "metadata": {},
   "source": [
    "Evaluation\n",
    "==========\n",
    "\n",
    "Evaluation is mostly the same as training, but there are no targets so\n",
    "we simply feed the decoder's predictions back to itself for each step.\n",
    "Every time it predicts a word we add it to the output string, and if it\n",
    "predicts the EOS token we stop there. We also store the decoder's\n",
    "attention outputs for display later.\n",
    "\n",
    "\n"
   ]
  },
  {
   "cell_type": "code",
   "execution_count": null,
   "metadata": {},
   "outputs": [],
   "source": [
    "def evaluate(encoder, decoder, sentence, max_length=MAX_LENGTH):\n",
    "    with torch.no_grad():\n",
    "        input_tensor = tensorFromSentence(input_lang, sentence)\n",
    "        input_length = input_tensor.size()[0]\n",
    "        encoder_hidden = encoder.initHidden()\n",
    "\n",
    "        encoder_outputs = torch.zeros(max_length, encoder.hidden_size, device=device)\n",
    "\n",
    "        for ei in range(input_length):\n",
    "            encoder_output, encoder_hidden = encoder(input_tensor[ei],\n",
    "                                                     encoder_hidden)\n",
    "            encoder_outputs[ei] += encoder_output[0, 0]\n",
    "\n",
    "        decoder_input = torch.tensor([[SOS_token]], device=device)  # SOS\n",
    "\n",
    "        decoder_hidden = encoder_hidden\n",
    "\n",
    "        decoded_words = []\n",
    "        decoder_attentions = torch.zeros(max_length, max_length)\n",
    "\n",
    "        for di in range(max_length):\n",
    "            decoder_output, decoder_hidden, decoder_attention = decoder(\n",
    "                decoder_input, decoder_hidden, encoder_outputs)\n",
    "            decoder_attentions[di] = decoder_attention.data\n",
    "            topv, topi = decoder_output.data.topk(1)\n",
    "            if topi.item() == EOS_token:\n",
    "                decoded_words.append('<EOS>')\n",
    "                break\n",
    "            else:\n",
    "                decoded_words.append(output_lang.index2word[topi.item()])\n",
    "\n",
    "            decoder_input = topi.squeeze().detach()\n",
    "\n",
    "        return decoded_words, decoder_attentions[:di + 1]"
   ]
  },
  {
   "cell_type": "markdown",
   "metadata": {},
   "source": [
    "We can evaluate random sentences from the training set and print out the\n",
    "input, target, and output to make some subjective quality judgements:\n",
    "\n",
    "\n"
   ]
  },
  {
   "cell_type": "code",
   "execution_count": null,
   "metadata": {},
   "outputs": [],
   "source": [
    "def evaluateRandomly(encoder, decoder, n=10):\n",
    "    for i in range(n):\n",
    "        pair = random.choice(pairs)\n",
    "        print('>', pair[0])\n",
    "        print('=', pair[1])\n",
    "        output_words, attentions = evaluate(encoder, decoder, pair[0])\n",
    "        output_sentence = ' '.join(output_words)\n",
    "        print('<', output_sentence)\n",
    "        print('')"
   ]
  },
  {
   "cell_type": "markdown",
   "metadata": {},
   "source": [
    "Training and Evaluating\n",
    "=======================\n",
    "\n",
    "With all these helper functions in place (it looks like extra work, but\n",
    "it makes it easier to run multiple experiments) we can actually\n",
    "initialize a network and start training.\n",
    "\n",
    "Remember that the input sentences were heavily filtered. For this small\n",
    "dataset we can use relatively small networks of 256 hidden nodes and a\n",
    "single GRU layer. After about 40 minutes on a MacBook CPU we'll get some\n",
    "reasonable results.\n",
    "\n",
    ".. Note::\n",
    "   If you run this notebook you can train, interrupt the kernel,\n",
    "   evaluate, and continue training later. Comment out the lines where the\n",
    "   encoder and decoder are initialized and run ``trainIters`` again.\n",
    "\n",
    "\n"
   ]
  },
  {
   "cell_type": "code",
   "execution_count": null,
   "metadata": {},
   "outputs": [],
   "source": [
    "hidden_size = 256\n",
    "encoder1 = EncoderRNN(input_lang.n_words, hidden_size).to(device)\n",
    "attn_decoder1 = AttnDecoderRNN(hidden_size, output_lang.n_words, dropout_p=0.1).to(device)\n",
    "\n",
    "trainIters(encoder1, attn_decoder1, 75000, print_every=5000)"
   ]
  },
  {
   "cell_type": "code",
   "execution_count": null,
   "metadata": {},
   "outputs": [],
   "source": [
    "evaluateRandomly(encoder1, attn_decoder1)"
   ]
  },
  {
   "cell_type": "markdown",
   "metadata": {},
   "source": [
    "Visualizing Attention\n",
    "---------------------\n",
    "\n",
    "A useful property of the attention mechanism is its highly interpretable\n",
    "outputs. Because it is used to weight specific encoder outputs of the\n",
    "input sequence, we can imagine looking where the network is focused most\n",
    "at each time step.\n",
    "\n",
    "You could simply run ``plt.matshow(attentions)`` to see attention output\n",
    "displayed as a matrix, with the columns being input steps and rows being\n",
    "output steps:\n",
    "\n",
    "\n"
   ]
  },
  {
   "cell_type": "code",
   "execution_count": null,
   "metadata": {},
   "outputs": [],
   "source": [
    "output_words, attentions = evaluate(\n",
    "    encoder1, attn_decoder1, \"je suis trop froid .\")\n",
    "plt.matshow(attentions.numpy())"
   ]
  },
  {
   "cell_type": "markdown",
   "metadata": {},
   "source": [
    "For a better viewing experience we will do the extra work of adding axes\n",
    "and labels:\n",
    "\n",
    "\n"
   ]
  },
  {
   "cell_type": "code",
   "execution_count": null,
   "metadata": {},
   "outputs": [],
   "source": [
    "def showAttention(input_sentence, output_words, attentions):\n",
    "    # Set up figure with colorbar\n",
    "    fig = plt.figure()\n",
    "    ax = fig.add_subplot(111)\n",
    "    cax = ax.matshow(attentions.numpy(), cmap='bone')\n",
    "    fig.colorbar(cax)\n",
    "\n",
    "    # Set up axes\n",
    "    ax.set_xticklabels([''] + input_sentence.split(' ') +\n",
    "                       ['<EOS>'], rotation=90)\n",
    "    ax.set_yticklabels([''] + output_words)\n",
    "\n",
    "    # Show label at every tick\n",
    "    ax.xaxis.set_major_locator(ticker.MultipleLocator(1))\n",
    "    ax.yaxis.set_major_locator(ticker.MultipleLocator(1))\n",
    "\n",
    "    plt.show()\n",
    "\n",
    "\n",
    "def evaluateAndShowAttention(input_sentence):\n",
    "    output_words, attentions = evaluate(\n",
    "        encoder1, attn_decoder1, input_sentence)\n",
    "    print('input =', input_sentence)\n",
    "    print('output =', ' '.join(output_words))\n",
    "    showAttention(input_sentence, output_words, attentions)\n",
    "\n",
    "\n",
    "evaluateAndShowAttention(\"elle a cinq ans de moins que moi .\")\n",
    "\n",
    "evaluateAndShowAttention(\"elle est trop petit .\")\n",
    "\n",
    "evaluateAndShowAttention(\"je ne crains pas de mourir .\")\n",
    "\n",
    "evaluateAndShowAttention(\"c est un jeune directeur plein de talent .\")"
   ]
  },
  {
   "cell_type": "markdown",
   "metadata": {},
   "source": [
    "Exercises\n",
    "=========\n",
    "\n",
    "-  Try with a different dataset\n",
    "\n",
    "   -  Another language pair\n",
    "   -  Human → Machine (e.g. IOT commands)\n",
    "   -  Chat → Response\n",
    "   -  Question → Answer\n",
    "\n",
    "-  Replace the embeddings with pre-trained word embeddings such as word2vec or\n",
    "   GloVe\n",
    "-  Try with more layers, more hidden units, and more sentences. Compare\n",
    "   the training time and results.\n",
    "-  If you use a translation file where pairs have two of the same phrase\n",
    "   (``I am test \\t I am test``), you can use this as an autoencoder. Try\n",
    "   this:\n",
    "\n",
    "   -  Train as an autoencoder\n",
    "   -  Save only the Encoder network\n",
    "   -  Train a new Decoder for translation from there\n",
    "\n",
    "\n"
   ]
  }
 ],
 "metadata": {
  "kernelspec": {
   "display_name": "Python 3 (ipykernel)",
   "language": "python",
   "name": "python3"
  },
  "language_info": {
   "codemirror_mode": {
    "name": "ipython",
    "version": 3
   },
   "file_extension": ".py",
   "mimetype": "text/x-python",
   "name": "python",
   "nbconvert_exporter": "python",
   "pygments_lexer": "ipython3",
   "version": "3.7.6"
  }
 },
 "nbformat": 4,
 "nbformat_minor": 1
}
